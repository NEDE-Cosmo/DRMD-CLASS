{
 "cells": [
  {
   "cell_type": "code",
   "execution_count": 164,
   "metadata": {},
   "outputs": [],
   "source": [
    "from classy import Class\n",
    "import numpy as np\n",
    "from matplotlib import pyplot as plt"
   ]
  },
  {
   "attachments": {},
   "cell_type": "markdown",
   "metadata": {},
   "source": [
    "Brane Inflation Potential and its derivatives "
   ]
  },
  {
   "cell_type": "code",
   "execution_count": 165,
   "metadata": {},
   "outputs": [],
   "source": [
    "from math import pi\n",
    "csteGrav = 6.6743015e-11\n",
    "M_pl = 1/np.sqrt(8*pi*csteGrav)\n",
    "\n",
    "# M_pl = 1\n",
    "\n",
    "def V_brane(phi,M4,mu,n):\n",
    "    return(M4/(1+pow(mu/phi,n)))\n",
    "\n",
    "def V_shift(phi,phi0,M4,mu,n):\n",
    "    return(V_brane(phi0-phi,M4,mu,n))\n",
    "\n",
    "def dV_brane(phi,M4,mu,n):\n",
    "    factor = M4*n*pow(mu,n)\n",
    "    denom = pow(phi,n)+pow(mu,n)\n",
    "    return(factor*pow(phi,n-1)/pow(denom,2))\n",
    "\n",
    "def ddV_brane(phi,M4,mu,n):\n",
    "    factor = M4*n*pow(mu,n)\n",
    "    factor2 = (n-1)*pow(mu,n)-(n+1)*pow(phi,n)\n",
    "    denom = pow(mu,n)+pow(phi,n)\n",
    "    return(factor*factor2/pow(denom,3))\n"
   ]
  },
  {
   "attachments": {},
   "cell_type": "markdown",
   "metadata": {},
   "source": [
    "Slow-roll parameters (analytical formulaes I computed)"
   ]
  },
  {
   "cell_type": "code",
   "execution_count": 166,
   "metadata": {},
   "outputs": [],
   "source": [
    "\n",
    "def epsilon1(phi,M4,mu,n):\n",
    "    x=phi/mu\n",
    "    factor=pow(n*M_pl/mu, 2)\n",
    "    return( 0.5*factor/pow(x*(pow(x,n)+1),2)  )\n",
    "\n",
    "def epsilon2(phi,M4,mu,n):\n",
    "    x=phi/mu\n",
    "    factor = 2*n*pow(M_pl/mu,2)\n",
    "    numerator = (n+1)*pow(x,n)+1\n",
    "    denominator = x*(pow(x,n)+1)\n",
    "    return( factor*numerator/pow(denominator,2) )\n",
    "\n",
    "def epsilon3(phi,M4,mu,n):\n",
    "    x=phi/mu\n",
    "    factor = n*pow(M_pl/mu,2)\n",
    "    numerator = 2 + (n-4)*(n+1)*pow(x,n)  + (n+1)*(n+2)*pow(x,2*n)\n",
    "    denominator = pow( x*(pow(x,n)+1) , 2)\n",
    "    denominator = denominator* ((n+1)*pow(x,n) + 1 )\n",
    "    return( factor * numerator / denominator)"
   ]
  },
  {
   "attachments": {},
   "cell_type": "markdown",
   "metadata": {},
   "source": [
    "Slow-roll parameters (computed)"
   ]
  },
  {
   "cell_type": "code",
   "execution_count": 167,
   "metadata": {},
   "outputs": [],
   "source": [
    "def epsilon1_true(phi,M4,mu,n):\n",
    "    factor = 0.5*pow(M_pl/mu,2)\n",
    "    return(factor*pow(dV_brane(phi,M4,mu,n)/V_brane(phi,M4,mu,n),2)  )\n",
    "\n",
    "def epsilon2_true(phi,M4,mu,n):\n",
    "    factor1 = pow(M_pl/mu,2)\n",
    "    factor2 = 0.5*pow(M_pl/mu,2)\n",
    "    quotient1 = ddV_brane(phi,M4,mu,n)/V_brane(phi,M4,mu,n)\n",
    "    quotient2 = dV_brane(phi,M4,mu,n)/V_brane(phi,M4,mu,n)\n",
    "    return(factor1*factor2*(pow(quotient2,2) - quotient1))\n",
    "    return(factor*factor2/pow(denom,3))"
   ]
  },
  {
   "attachments": {},
   "cell_type": "markdown",
   "metadata": {},
   "source": [
    "Calculate $\\phi_{end}$ and $\\phi_{start}$"
   ]
  },
  {
   "cell_type": "code",
   "execution_count": 168,
   "metadata": {},
   "outputs": [],
   "source": [
    "#Calcule phi tel que V(phi) proche de M4 ... la précision recquise est expliquée après  (en fait elle dépend de M4 et donc de mu  (car M4/mu4 = 16/27))\n",
    "def calculate_phi_start_BI(M4,mu,n,precision):\n",
    "    return(mu*pow(M4/precision,1/n))"
   ]
  },
  {
   "cell_type": "code",
   "execution_count": 169,
   "metadata": {},
   "outputs": [],
   "source": [
    "# from math import pi\n",
    "# csteGrav = 6.6743015e-11\n",
    "# M_pl = 1/np.sqrt(8*pi*csteGrav)\n",
    "\n",
    "# def test1(precision):\n",
    "#     mu = M_pl*1e-3\n",
    "#     M4=4*pi*pi*pow(mu,4)*16/27\n",
    "#     n=4\n",
    "#     phi_start = M_pl*0.004\n",
    "#     phi=M_pl*np.linspace(0,0.,10000)\n",
    "    \n",
    "#     V1 = V_brane(phi,M4,mu,n)\n",
    "#     V2 = V_shift(phi,phi_start,M4,mu,n)\n",
    "\n",
    "#     plt.plot(phi/M_pl,V1,\"b-\",label=r'$V(\\phi)$')\n",
    "#     plt.plot(phi/M_pl,V2,\"r-\",label=r'$V(\\phi_0-\\phi)$')\n",
    "\n",
    "#     plt.xlabel(r'$\\phi / M_{Pl}$')\n",
    "#     plt.ylabel(r'$V(\\phi) , V(\\phi_0-\\phi)$')\n",
    "#     plt.legend()\n",
    "#     plt.show()\n",
    "\n",
    "# test1(1e-1)\n",
    "    \n"
   ]
  },
  {
   "cell_type": "code",
   "execution_count": 170,
   "metadata": {},
   "outputs": [],
   "source": [
    "# eta= 10e-10\n",
    "\n",
    "\n",
    "# def fonction_precision(eta):\n",
    "#     liste_mu = M_pl*np.logspace(-3,3,7)\n",
    "#     liste_M4=4*pi*pi*pow(liste_mu,4)*16/27\n",
    "    \n",
    "\n",
    "#     n=4\n",
    "\n",
    "#     liste_phi_start = [calculate_phi_start_BI(liste_mu[i],liste_M4[i], n ,eta)  for i in range(len(liste_mu)) ]\n",
    "\n",
    "#     print(\"précision : \",eta)\n",
    "#     print(\"\")\n",
    "#     print(r\"$\\mu$\",liste_mu)\n",
    "#     print(r'M^4 : ',liste_M4)\n",
    "#     print(r'$\\phi_{start} : ',liste_phi_start)\n",
    "#     print(\"* - * - * - * - * - * - * - * - * - * - * - * - * - * - * - * - * - *\")\n",
    "\n",
    "# fonction_precision(1e-1)\n",
    "# fonction_precision(1e-10)\n",
    "# fonction_precision(1e-100)"
   ]
  },
  {
   "attachments": {},
   "cell_type": "markdown",
   "metadata": {},
   "source": [
    "Algorithm to find Phi_pivot at which the slow-roll parameters are evaluated"
   ]
  },
  {
   "cell_type": "code",
   "execution_count": 171,
   "metadata": {},
   "outputs": [],
   "source": [
    "## précision nécessaire pour pouvoir atteindre phi tel que  V(phi) proche de M4   (on utilise cette précision dans la fonction calculate phi start)\n",
    "def precision_mu(mu,N):\n",
    "    return(pow(10,-(20-N*(np.log10(mu/M_pl)+3))))"
   ]
  },
  {
   "attachments": {},
   "cell_type": "markdown",
   "metadata": {},
   "source": [
    "Essais pour trouver fction précision"
   ]
  },
  {
   "cell_type": "code",
   "execution_count": 189,
   "metadata": {},
   "outputs": [],
   "source": [
    "##essais\n",
    "\n",
    "def essai3(N0):\n",
    "    mu = pow(10,N0)*M_pl\n",
    "    M4=4*pi*pi*pow(mu,4)*16/27\n",
    "\n",
    "\n",
    "    eta = precision_mu(mu,4)\n",
    "    print(\"precision\",eta)\n",
    "\n",
    "    phi_deb = calculate_phi_start_BI(M4,mu,4,eta)\n",
    "    print(\"phi_deb/Mpl\",phi_deb/M_pl)\n",
    "    \n",
    "    plot_BI(M4,mu,n)\n",
    "    plottt(M4,mu,4,eta)"
   ]
  },
  {
   "cell_type": "code",
   "execution_count": 190,
   "metadata": {},
   "outputs": [
    {
     "name": "stdout",
     "output_type": "stream",
     "text": [
      "precision 1e-20\n",
      "phi_deb/Mpl 3.689136033667842e-10\n"
     ]
    },
    {
     "ename": "IndexError",
     "evalue": "GridSpec slice would result in no space allocated for subplot",
     "output_type": "error",
     "traceback": [
      "\u001b[0;31m---------------------------------------------------------------------------\u001b[0m",
      "\u001b[0;31mIndexError\u001b[0m                                Traceback (most recent call last)",
      "Cell \u001b[0;32mIn[190], line 1\u001b[0m\n\u001b[0;32m----> 1\u001b[0m essai3(\u001b[39m-\u001b[39;49m\u001b[39m3\u001b[39;49m)\n",
      "Cell \u001b[0;32mIn[189], line 14\u001b[0m, in \u001b[0;36messai3\u001b[0;34m(N0)\u001b[0m\n\u001b[1;32m     11\u001b[0m phi_deb \u001b[39m=\u001b[39m calculate_phi_start_BI(M4,mu,\u001b[39m4\u001b[39m,eta)\n\u001b[1;32m     12\u001b[0m \u001b[39mprint\u001b[39m(\u001b[39m\"\u001b[39m\u001b[39mphi_deb/Mpl\u001b[39m\u001b[39m\"\u001b[39m,phi_deb\u001b[39m/\u001b[39mM_pl)\n\u001b[0;32m---> 14\u001b[0m plot_BI(M4,mu,n)\n\u001b[1;32m     15\u001b[0m plottt(M4,mu,\u001b[39m4\u001b[39m,eta)\n",
      "Cell \u001b[0;32mIn[186], line 7\u001b[0m, in \u001b[0;36mplot_BI\u001b[0;34m(M4, mu, n)\u001b[0m\n\u001b[1;32m      5\u001b[0m fig \u001b[39m=\u001b[39m plt\u001b[39m.\u001b[39mfigure()\n\u001b[1;32m      6\u001b[0m ax1 \u001b[39m=\u001b[39m plt\u001b[39m.\u001b[39msubplot2grid((\u001b[39m2\u001b[39m, \u001b[39m1\u001b[39m), (\u001b[39m0\u001b[39m, \u001b[39m0\u001b[39m))\n\u001b[0;32m----> 7\u001b[0m ax2 \u001b[39m=\u001b[39m plt\u001b[39m.\u001b[39;49msubplot2grid((\u001b[39m2\u001b[39;49m, \u001b[39m1\u001b[39;49m), (\u001b[39m0\u001b[39;49m, \u001b[39m1\u001b[39;49m))\n\u001b[1;32m      8\u001b[0m ax3 \u001b[39m=\u001b[39m plt\u001b[39m.\u001b[39msubplot2grid((\u001b[39m2\u001b[39m, \u001b[39m2\u001b[39m), (\u001b[39m1\u001b[39m, \u001b[39m0\u001b[39m))\n\u001b[1;32m      9\u001b[0m ax4 \u001b[39m=\u001b[39m plt\u001b[39m.\u001b[39msubplot2grid((\u001b[39m2\u001b[39m, \u001b[39m2\u001b[39m), (\u001b[39m1\u001b[39m, \u001b[39m1\u001b[39m))\n",
      "File \u001b[0;32m/usr/local/lib/python3.10/dist-packages/matplotlib/pyplot.py:1670\u001b[0m, in \u001b[0;36msubplot2grid\u001b[0;34m(shape, loc, rowspan, colspan, fig, **kwargs)\u001b[0m\n\u001b[1;32m   1667\u001b[0m rows, cols \u001b[39m=\u001b[39m shape\n\u001b[1;32m   1668\u001b[0m gs \u001b[39m=\u001b[39m GridSpec\u001b[39m.\u001b[39m_check_gridspec_exists(fig, rows, cols)\n\u001b[0;32m-> 1670\u001b[0m subplotspec \u001b[39m=\u001b[39m gs\u001b[39m.\u001b[39;49mnew_subplotspec(loc, rowspan\u001b[39m=\u001b[39;49mrowspan, colspan\u001b[39m=\u001b[39;49mcolspan)\n\u001b[1;32m   1671\u001b[0m ax \u001b[39m=\u001b[39m fig\u001b[39m.\u001b[39madd_subplot(subplotspec, \u001b[39m*\u001b[39m\u001b[39m*\u001b[39mkwargs)\n\u001b[1;32m   1673\u001b[0m axes_to_delete \u001b[39m=\u001b[39m [other \u001b[39mfor\u001b[39;00m other \u001b[39min\u001b[39;00m fig\u001b[39m.\u001b[39maxes\n\u001b[1;32m   1674\u001b[0m                   \u001b[39mif\u001b[39;00m other \u001b[39m!=\u001b[39m ax \u001b[39mand\u001b[39;00m ax\u001b[39m.\u001b[39mbbox\u001b[39m.\u001b[39mfully_overlaps(other\u001b[39m.\u001b[39mbbox)]\n",
      "File \u001b[0;32m/usr/local/lib/python3.10/dist-packages/matplotlib/gridspec.py:98\u001b[0m, in \u001b[0;36mGridSpecBase.new_subplotspec\u001b[0;34m(self, loc, rowspan, colspan)\u001b[0m\n\u001b[1;32m     86\u001b[0m \u001b[39m\u001b[39m\u001b[39m\"\"\"\u001b[39;00m\n\u001b[1;32m     87\u001b[0m \u001b[39mCreate and return a `.SubplotSpec` instance.\u001b[39;00m\n\u001b[1;32m     88\u001b[0m \n\u001b[0;32m   (...)\u001b[0m\n\u001b[1;32m     95\u001b[0m \u001b[39m    The number of rows and columns the subplot should span in the grid.\u001b[39;00m\n\u001b[1;32m     96\u001b[0m \u001b[39m\"\"\"\u001b[39;00m\n\u001b[1;32m     97\u001b[0m loc1, loc2 \u001b[39m=\u001b[39m loc\n\u001b[0;32m---> 98\u001b[0m subplotspec \u001b[39m=\u001b[39m \u001b[39mself\u001b[39;49m[loc1:loc1\u001b[39m+\u001b[39;49mrowspan, loc2:loc2\u001b[39m+\u001b[39;49mcolspan]\n\u001b[1;32m     99\u001b[0m \u001b[39mreturn\u001b[39;00m subplotspec\n",
      "File \u001b[0;32m/usr/local/lib/python3.10/dist-packages/matplotlib/gridspec.py:258\u001b[0m, in \u001b[0;36mGridSpecBase.__getitem__\u001b[0;34m(self, key)\u001b[0m\n\u001b[1;32m    255\u001b[0m     \u001b[39mexcept\u001b[39;00m \u001b[39mValueError\u001b[39;00m \u001b[39mas\u001b[39;00m err:\n\u001b[1;32m    256\u001b[0m         \u001b[39mraise\u001b[39;00m \u001b[39mValueError\u001b[39;00m(\u001b[39m\"\u001b[39m\u001b[39mUnrecognized subplot spec\u001b[39m\u001b[39m\"\u001b[39m) \u001b[39mfrom\u001b[39;00m \u001b[39merr\u001b[39;00m\n\u001b[1;32m    257\u001b[0m     num1, num2 \u001b[39m=\u001b[39m np\u001b[39m.\u001b[39mravel_multi_index(\n\u001b[0;32m--> 258\u001b[0m         [_normalize(k1, nrows, \u001b[39m0\u001b[39m), _normalize(k2, ncols, \u001b[39m1\u001b[39;49m)],\n\u001b[1;32m    259\u001b[0m         (nrows, ncols))\n\u001b[1;32m    260\u001b[0m \u001b[39melse\u001b[39;00m:  \u001b[39m# Single key\u001b[39;00m\n\u001b[1;32m    261\u001b[0m     num1, num2 \u001b[39m=\u001b[39m _normalize(key, nrows \u001b[39m*\u001b[39m ncols, \u001b[39mNone\u001b[39;00m)\n",
      "File \u001b[0;32m/usr/local/lib/python3.10/dist-packages/matplotlib/gridspec.py:238\u001b[0m, in \u001b[0;36mGridSpecBase.__getitem__.<locals>._normalize\u001b[0;34m(key, size, axis)\u001b[0m\n\u001b[1;32m    236\u001b[0m     \u001b[39mif\u001b[39;00m stop \u001b[39m>\u001b[39m start:\n\u001b[1;32m    237\u001b[0m         \u001b[39mreturn\u001b[39;00m start, stop \u001b[39m-\u001b[39m \u001b[39m1\u001b[39m\n\u001b[0;32m--> 238\u001b[0m     \u001b[39mraise\u001b[39;00m \u001b[39mIndexError\u001b[39;00m(\u001b[39m\"\u001b[39m\u001b[39mGridSpec slice would result in no space \u001b[39m\u001b[39m\"\u001b[39m\n\u001b[1;32m    239\u001b[0m                      \u001b[39m\"\u001b[39m\u001b[39mallocated for subplot\u001b[39m\u001b[39m\"\u001b[39m)\n\u001b[1;32m    240\u001b[0m \u001b[39melse\u001b[39;00m:\n\u001b[1;32m    241\u001b[0m     \u001b[39mif\u001b[39;00m key \u001b[39m<\u001b[39m \u001b[39m0\u001b[39m:\n",
      "\u001b[0;31mIndexError\u001b[0m: GridSpec slice would result in no space allocated for subplot"
     ]
    },
    {
     "data": {
      "image/png": "[encoded data removed]",
      "text/plain": [
       "<Figure size 640x480 with 1 Axes>"
      ]
     },
     "metadata": {},
     "output_type": "display_data"
    }
   ],
   "source": [
    "essai3(-3)"
   ]
  },
  {
   "attachments": {},
   "cell_type": "markdown",
   "metadata": {},
   "source": [
    "essais bis"
   ]
  },
  {
   "cell_type": "code",
   "execution_count": 174,
   "metadata": {},
   "outputs": [
    {
     "name": "stdout",
     "output_type": "stream",
     "text": [
      "$\\mu / M_pl$ 0.001\n",
      "phi_max 28834491478.97728\n",
      "\n",
      "$\\mu / M_pl$ 0.01\n",
      "phi_max 288344914789.7728\n",
      "\n",
      "$\\mu / M_pl$ 0.09999999999999999\n",
      "phi_max 2883449147897.728\n",
      "\n",
      "$\\mu / M_pl$ 1.0\n",
      "phi_max 28834491478977.28\n",
      "\n",
      "$\\mu / M_pl$ 10.0\n",
      "phi_max 288344914789772.8\n",
      "\n",
      "$\\mu / M_pl$ 100.0\n",
      "phi_max 2883449147897728.5\n",
      "\n",
      "$\\mu / M_pl$ 1000.0000000000001\n",
      "phi_max 2.883449147897729e+16\n",
      "\n"
     ]
    }
   ],
   "source": [
    "n=2\n",
    "csteGrav = 6.6743015e-11\n",
    "\n",
    "\n",
    "liste_mu = M_pl*np.logspace(-3,3,7)\n",
    "liste_M4=4*pi*pi*pow(liste_mu,4)*16/27\n",
    "\n",
    "\n",
    "precision = precision_mu(liste_mu,4)\n",
    "\n",
    "phi_max = calculate_phi_start_BI(liste_M4,liste_mu,n,precision)\n",
    "\n",
    "for i in range(len(liste_mu)):\n",
    "    print(r'$\\mu / M_pl$',liste_mu[i]/M_pl)\n",
    "    print(\"phi_max\",phi_max[i]/M_pl)\n",
    "    print(\"\")\n"
   ]
  },
  {
   "cell_type": "code",
   "execution_count": 175,
   "metadata": {},
   "outputs": [],
   "source": [
    "def couleur(i,N):\n",
    "    myColor = plt.get_cmap(\"Dark2\")\n",
    "    return(\"b\")\n",
    "    return(myColor((i+1)/N))"
   ]
  },
  {
   "cell_type": "code",
   "execution_count": 186,
   "metadata": {},
   "outputs": [],
   "source": [
    "from matplotlib.patches import Rectangle\n",
    "\n",
    "def plot_BI(M4,mu,n):\n",
    "\n",
    "    fig = plt.figure()\n",
    "    ax1 = plt.subplot2grid((2, 1), (0, 0))\n",
    "    ax2 = plt.subplot2grid((2, 1), (0, 1))\n",
    "    ax3 = plt.subplot2grid((2, 2), (1, 0))\n",
    "    ax4 = plt.subplot2grid((2, 2), (1, 1))\n",
    "\n",
    "    phi = M_pl*np.linspace(-10,10,10000)\n",
    "    V = V_brane(phi,M4,mu,n)\n",
    "    E1 = epsilon1(phi/M_pl,M4,mu,n)\n",
    "    E2 = epsilon2(phi/M_pl,M4,mu,n)\n",
    "    E3 = epsilon3(phi/M_pl,M4,mu,n)\n",
    "\n",
    "    ax1.plot(phi/M_pl,V/M4)\n",
    "    ax2.plot(phi/M_pl,E1)\n",
    "    ax3.plot(phi/M_pl,E2)\n",
    "    ax4.plot(phi/M_pl,E3)\n",
    "\n",
    "    fig.suptitle(f'Brane Inflation Potential and slow-roll parameters for p = {n}') \n",
    "    ax2.set_yscale('log')\n",
    "    ax3.set_yscale('log')\n",
    "    ax4.set_yscale('log')\n",
    "\n",
    "\n",
    "    ax3.set_xlabel(r'$\\phi / \\mu$')\n",
    "    ax4.set_xlabel(r'$\\phi / \\mu$')\n",
    "\n",
    "    ax1.set_ylabel(r'$V(\\phi)$')\n",
    "    ax2.set_ylabel(r\"$\\epsilon_1(\\phi)$\")\n",
    "    ax3.set_ylabel(r\"$\\epsilon_2(\\phi)$\")\n",
    "    ax4.set_ylabel(r\"$\\epsilon_3(\\phi)$\")\n",
    "\n",
    "\n",
    "    plt.tight_layout()\n",
    "    plt.show()\n",
    "\n",
    "\n",
    "def plottt(M4,mu,n,eta):\n",
    "    fig = plt.figure()\n",
    "    fig, (ax1, ax2) = plt.subplots(1, 2, figsize=(10, 5))\n",
    "\n",
    "\n",
    "    phi_deb = calculate_phi_start_BI(M4,mu,n,eta)\n",
    "    print(r\"$\\phi_{deb}$\",phi_deb)\n",
    "    print(r\"$\\phi/M_{pl}$\",phi_deb/M_pl)\n",
    "\n",
    "    phi = M_pl*np.linspace(0,phi_deb/M_pl,10000)\n",
    "\n",
    "    V = V_brane(phi,M4,mu,n)\n",
    "\n",
    "    VV = V_shift(phi,phi_deb,M4,mu,n)\n",
    "\n",
    "    ax1.plot(phi/M_pl,V/M4)\n",
    "    ax2.plot(phi/M_pl,VV/M4)\n",
    " \n",
    "\n",
    "    fig.suptitle(f'Brane Inflation Potential and slow-roll parameters for p = {n}') \n",
    "    \n",
    "\n",
    "    ax1.set_xlabel(r'$\\phi / \\mu$')\n",
    "    ax2.set_xlabel(r'$\\phi / \\mu$')\n",
    "\n",
    "    ax1.set_ylabel(r'$V(\\phi)$')\n",
    "    ax2.set_ylabel(r\"$V(\\phi_0-\\phi)$\")\n",
    "\n",
    "    plt.tight_layout()\n",
    "    plt.show()\n",
    "\n",
    "def plot_all_BI(M4,mu,n,eta,couleur):\n",
    "    fig = plt.figure()\n",
    "    ax1 = plt.subplot(2,3,1)\n",
    "    ax2 = plt.subplot(2,3,2)\n",
    "    ax3 = plt.subplot(2,3,3)\n",
    "    ax4 = plt.subplot(2,3,4)\n",
    "    ax5 = plt.subplot(2,3,5)\n",
    "\n",
    "    phi_deb=calculate_phi_start_BI(M4,mu,n,eta)\n",
    "    phi = M_pl*np.linspace(0,phi_deb/M_pl,10000)\n",
    "    V1 = V_brane(phi,M4,mu,n)\n",
    "    V2 = V_shift(phi,phi_deb,M4,mu,n)\n",
    "\n",
    "    E1 = epsilon1(phi/M_pl,M4,mu,n)\n",
    "    E2 = epsilon2(phi/M_pl,M4,mu,n)\n",
    "    E3 = epsilon3(phi/M_pl,M4,mu,n)\n",
    "\n",
    "    ax1.plot(phi/M_pl,V1/M4,color=couleur)\n",
    "    ax1.set_ylabel(r'$V(\\phi)$')\n",
    "    \n",
    "    ax2.plot(phi/M_pl,V2/M4,color=couleur)\n",
    "    ax2.set_ylabel(r'$V(\\phi_0-\\phi)$')\n",
    "\n",
    "    ax3.plot(phi/M_pl,E1,color=couleur)\n",
    "    ax4.plot(phi/M_pl,E2,color=couleur)\n",
    "    ax5.plot(phi/M_pl,E3,color=couleur)\n",
    "    ax3.set_ylabel(r\"$\\epsilon_1(\\phi)$\")\n",
    "    ax4.set_ylabel(r\"$\\epsilon_2(\\phi)$\")\n",
    "    ax5.set_ylabel(r\"$\\epsilon_3(\\phi)$\")\n",
    "\n",
    "    ax3.set_xlabel(r'$\\phi / \\mu$')\n",
    "    ax4.set_xlabel(r'$\\phi / \\mu$')\n",
    "    ax5.set_xlabel(r'$\\phi / \\mu$')\n",
    "\n",
    "    fig.suptitle(r'Brane Inflation Potential and slow-roll parameters for p ='+str(n)+r'when $\\mu/M_{Pl} = $'+str(mu/M_pl)) \n",
    "    # ax2.set_yscale('log')\n",
    "    # ax3.set_yscale('log')\n",
    "    # ax4.set_yscale('log')\n",
    "\n",
    "    plt.tight_layout()\n",
    "    plt.show()\n",
    "\n",
    "def plot_all_BI_wrt_mu(M4,mu,n,eta,couleur):\n",
    "    fig = plt.figure(figsize=(10,7))\n",
    "    ax1 = plt.subplot(2,3,1)\n",
    "    ax2 = plt.subplot(2,3,2)\n",
    "    ax3 = plt.subplot(2,3,3)\n",
    "    ax4 = plt.subplot(2,3,4)\n",
    "    ax5 = plt.subplot(2,3,5)\n",
    "    ax6 = plt.subplot(2,3,6)\n",
    "\n",
    "    phi_deb=calculate_phi_start_BI(M4,mu,n,eta)  #2 arbitraire, pcq c mieux\n",
    "    \n",
    "    print(\" * - *  VERIF * - * \")\n",
    "    print(r\"$\\phi_{deb}\",phi_deb/M_pl)\n",
    "\n",
    "    list_phi = np.linspace(0,phi_deb,10000)\n",
    "    V1 = V_brane(list_phi,M4,mu,n)\n",
    "    V2 = V_shift(list_phi,phi_deb,M4,mu,n)\n",
    "\n",
    "    E1 = epsilon1(list_phi,M4,mu,n)\n",
    "    E2 = epsilon2(list_phi,M4,mu,n)\n",
    "    E3 = epsilon3(list_phi,M4,mu,n)\n",
    "    E1bis = epsilon1_bis(list_phi,M4,mu,n)\n",
    "\n",
    "    ax1.plot(list_phi/M_pl,V1/M4,color=couleur)\n",
    "    ax1.set_ylabel(r'$V(\\phi)$')\n",
    "    ax1.set_xlabel(r'$\\phi/M_{Pl}$')\n",
    "    \n",
    "    ax2.plot(list_phi/mu,V2/M4,color=couleur)\n",
    "    ax2.set_ylabel(r'$V(\\phi_0-\\phi)$')\n",
    "    ax2.set_xlabel(r'$\\phi/\\mu$')\n",
    "\n",
    "    print(\"Verifications !!\")\n",
    "    print(\"les phi/mu\")\n",
    "    print(list_phi/mu)\n",
    "    print(\"les phi/Mpl\")\n",
    "    print(list_phi/M_pl)\n",
    "    print(\"les epsilon 1\")\n",
    "    print(pow(mu/M_pl,2)*E1)\n",
    "\n",
    "    ax3.plot(list_phi/mu,pow(mu/M_pl,2)*E1,color=couleur)\n",
    "    ax4.plot(list_phi/mu,pow(mu/M_pl,2)*E2,color=couleur)\n",
    "    ax5.plot(list_phi/mu,pow(mu/M_pl,2)*E3,color=couleur)\n",
    "    ax6.plot(list_phi/mu,pow(mu/M_pl,2)*E1bis,color=\"r\")\n",
    "    ax3.set_ylabel(r\"$\\frac{\\mu^2}{M_{Pl}^2} \\epsilon_1(\\phi)$\")\n",
    "    ax4.set_ylabel(r\"$\\frac{\\mu^2}{M_{Pl}^2} \\epsilon_2(\\phi)$\")\n",
    "    ax5.set_ylabel(r\"$\\frac{\\mu^2}{M_{Pl}^2} \\epsilon_3(\\phi)$\")\n",
    "    ax6.set_ylabel(r\"$\\frac{\\mu^2}{M_{Pl}^2} \\epsilon_1(\\phi)$\")\n",
    "\n",
    "    ax3.set_xlabel(r'$\\phi / \\mu$')\n",
    "    ax4.set_xlabel(r'$\\phi / \\mu$')\n",
    "    ax5.set_xlabel(r'$\\phi / \\mu$')\n",
    "    ax6.set_xlabel(r'$\\phi / \\mu$')\n",
    "\n",
    "    fig.suptitle(r'Brane Inflation Potential and slow-roll parameters for p ='+str(n)+r'when $\\mu/M_{Pl} = $'+str(mu/M_pl)) \n",
    "    # ax2.set_yscale('log')\n",
    "    # ax3.set_yscale('log')\n",
    "    # ax4.set_yscale('log')\n",
    "\n",
    "    plt.tight_layout()\n",
    "    plt.show()"
   ]
  },
  {
   "cell_type": "code",
   "execution_count": null,
   "metadata": {},
   "outputs": [],
   "source": []
  },
  {
   "cell_type": "code",
   "execution_count": 177,
   "metadata": {},
   "outputs": [],
   "source": [
    "def essai_ALL(N):\n",
    "    n=4\n",
    "    liste_mu = M_pl*np.logspace(-3,3,7)\n",
    "    liste_M4=4*pi*pi*pow(liste_mu,4)*16/27\n",
    "    liste_eta = [ precision_mu(mu,N) for mu in liste_mu ]\n",
    "    print(\"mu\",liste_mu/M_pl)\n",
    "    print(\"eta\",liste_eta)\n",
    "    for i in range(len(liste_mu)):\n",
    "        plot_all_BI(liste_M4[i],liste_mu[i],n,liste_eta[i],couleur(i,N))\n",
    "\n"
   ]
  },
  {
   "cell_type": "code",
   "execution_count": 178,
   "metadata": {},
   "outputs": [],
   "source": [
    "def essai_ALL_wrt_mu(N):\n",
    "    n=4\n",
    "    liste_mu = M_pl*np.logspace(-3,3,1)\n",
    "    liste_M4=4*pi*pi*pow(liste_mu,4)*16/27\n",
    "    liste_eta = [ precision_mu(mu,N) for mu in liste_mu ]\n",
    "    for i in range(len(liste_mu)):\n",
    "        plot_all_BI_wrt_mu(liste_M4[i],liste_mu[i],n,liste_eta[i],couleur(i,N))\n"
   ]
  },
  {
   "cell_type": "code",
   "execution_count": 179,
   "metadata": {},
   "outputs": [
    {
     "name": "stdout",
     "output_type": "stream",
     "text": [
      " * - *  VERIF * - * \n",
      "$\\phi_{deb} 5369.775738238728\n",
      "Verifications !!\n",
      "les phi/mu\n",
      "[0.00000000e+00 5.37031277e+02 1.07406255e+03 ... 5.36870168e+06\n",
      " 5.36923871e+06 5.36977574e+06]\n",
      "les phi/Mpl\n",
      "[0.00000000e+00 5.37031277e-01 1.07406255e+00 ... 5.36870168e+03\n",
      " 5.36923871e+03 5.36977574e+03]\n",
      "les epsilon 1\n",
      "[           inf 4.00953665e-27 3.91556313e-30 ... 4.02158513e-67\n",
      " 4.01756455e-67 4.01354839e-67]\n"
     ]
    },
    {
     "name": "stderr",
     "output_type": "stream",
     "text": [
      "/tmp/ipykernel_226/3189338373.py:8: RuntimeWarning: divide by zero encountered in divide\n",
      "  return(M4/(1+pow(mu/phi,n)))\n",
      "/tmp/ipykernel_226/4034785085.py:4: RuntimeWarning: divide by zero encountered in divide\n",
      "  return( 0.5*factor/pow(x*(pow(x,n)+1),2)  )\n",
      "/tmp/ipykernel_226/4034785085.py:11: RuntimeWarning: divide by zero encountered in divide\n",
      "  return( factor*numerator/pow(denominator,2) )\n",
      "/tmp/ipykernel_226/4034785085.py:19: RuntimeWarning: divide by zero encountered in divide\n",
      "  return( factor * numerator / denominator)\n",
      "/tmp/ipykernel_226/3831649161.py:25: RuntimeWarning: invalid value encountered in divide\n",
      "  return(0.5*M_pl*pow(dV_brane(phi,M4,mu,n)/V_brane(phi,M4,mu,n),2))\n"
     ]
    },
    {
     "data": {
      "image/png": "[encoded data removed]",
      "text/plain": [
       "<Figure size 1000x700 with 6 Axes>"
      ]
     },
     "metadata": {},
     "output_type": "display_data"
    }
   ],
   "source": [
    "essai_ALL_wrt_mu(4)"
   ]
  },
  {
   "attachments": {},
   "cell_type": "markdown",
   "metadata": {},
   "source": [
    "List of cosmological models"
   ]
  },
  {
   "cell_type": "code",
   "execution_count": 180,
   "metadata": {},
   "outputs": [],
   "source": [
    "\n",
    "#### -------  Setting up the parameters  -------  #####\n",
    "\n",
    "#We run several simulations, stocked in this list\n",
    "cosmo=[]\n",
    "\n",
    "\n",
    "# 0th - Analytical one (we just give the parameters for the power spectra that we know from observations)\n",
    "\n",
    "cosmo += [Class()]\n",
    "cosmo[0].set({'omega_b':0.0223828,'omega_cdm':0.1201075,'h':0.67810,'A_s':2.100549e-09,'n_s':0.9660499,'tau_reio':0.05430842, 'r':1, 'k_pivot':0.05})\n",
    "cosmo[0].set({'output':'tCl,pCl,lCl,mPk','lensing':'yes','P_k_max_1/Mpc':3.0})\n",
    "cosmo[0].set({'modes':'s,t'})   \n",
    "cosmo[0].set({'Pk_ini_type':'analytic_Pk'}) \n",
    "\n",
    "\n",
    "## All the rest : Brane Inflation \n",
    "## V(phi) = M^4 * 1/ (1 + (phi/mu)^-n )\n",
    "##  où  n=4                         fixé\n",
    "##      mu/M_p \\in  [1e-3,1e3]  pas fixé\n",
    "##      M^4/mu^4 = v = 16/27        fixé\n",
    "\n",
    "\n",
    "    #Masse de planck réduite\n",
    "from math import pi\n",
    "csteGrav = 6.6743015e-11\n",
    "M_pl = 8*pi*csteGrav\n",
    "# M_pl = 1\n",
    "liste_mu = M_pl*np.logspace(-3,3,7)\n",
    "# liste_mu = [M_pl*1e-3]\n",
    "N0=len(liste_mu)\n",
    "\n",
    "n=4\n",
    "v=16/27\n",
    "\n",
    "## V(phi) = M^4 * 1/ (1 + (phi/mu)^-n )\n",
    "##  où  n=4                         fixé\n",
    "##      mu/M_p \\in  [1e-3,1e3]  pas fixé\n",
    "##      M^4/mu^4 = v = 16/27        fixé\n",
    "\n",
    "\n",
    "\n",
    "# 1st - Classical polynomial with Slow roll parameters\n",
    "for i in range(len(liste_mu)):\n",
    "    mu=liste_mu[i]\n",
    "    M4=4*pi*pi*pow(mu,4)*16/27\n",
    "    \n",
    "    ## What is the value of phi_* ??\n",
    "    phi=M_pl/mu\n",
    "    phi=3*M_pl\n",
    "    ## We need phi* the value of phi at the pivot scale k* that verifies the Horizon crossing condition :  a*H* = k*\n",
    "    ## this value gives us the values of the Slow roll parameters PSR_i   that we must set  for the CLASS Module\n",
    "\n",
    "    cosmo += [ Class() ]\n",
    "    cosmo[1+i].set({'output':'tCl,pCl,lCl,mPk','lensing':'yes','P_k_max_1/Mpc':3.0})\n",
    "    cosmo[1+i].set({'modes':'s,t'})   \n",
    "    cosmo[1+i].set({'Pk_ini_type':'inflation_V'})  \n",
    "    cosmo[1+i].set({'potential':'polynomial'})\n",
    "    cosmo[1+i].set({'PSR_0':epsilon1(phi,M4,mu,n),'PSR_1':epsilon2(phi,M4,mu,n),'PSR_2':epsilon3(phi,M4,mu,n),'PSR_3':0.,'PSR_4':0.})    \n",
    "\n",
    "# 2nd - Brane Inflation with potential parameters\n",
    "\n",
    "# for i in range(len(liste_mu)):\n",
    "#     mu=liste_mu[i]\n",
    "    \n",
    "#     cosmo += [ Class() ]\n",
    "#     cosmo[1+N0+i].set({'output':'tCl,pCl,lCl,mPk','lensing':'yes','P_k_max_1/Mpc':3.0})\n",
    "#     cosmo[1+N0+i].set({'modes':'s,t'})   \n",
    "#     cosmo[1+N0+i].set({'Pk_ini_type':'inflation_V'})  \n",
    "#     cosmo[1+N0+i].set({'potential':'brane_inflation'})\n",
    "#     cosmo[1+N0+i].set({'V_0':4*pi*pi*pow(mu,4)*v,'V_1':mu,'V_2':4,'V_3':0.,'V_4':0.})\n",
    "\n"
   ]
  },
  {
   "cell_type": "code",
   "execution_count": null,
   "metadata": {},
   "outputs": [],
   "source": []
  },
  {
   "cell_type": "code",
   "execution_count": 181,
   "metadata": {},
   "outputs": [],
   "source": [
    "\n",
    "## General parameters\n",
    "l_max_scalars= 2500\n",
    "l_max_tensors = 600\n"
   ]
  },
  {
   "cell_type": "code",
   "execution_count": 182,
   "metadata": {},
   "outputs": [
    {
     "name": "stdout",
     "output_type": "stream",
     "text": [
      "8\n"
     ]
    }
   ],
   "source": [
    "#Colors ( for the plotting blabla)\n",
    "C=['magenta']\n",
    "for i in range(len(liste_mu)):\n",
    "    C.append(plt.get_cmap('autumn')(i/(N0+1)))\n",
    "\n",
    "for i in range(len(liste_mu)):\n",
    "    C.append(plt.get_cmap('winter')(i/(N0+1)))\n",
    "\n",
    "# Number of cosmological models\n",
    "N = len(cosmo) \n",
    "print(N)\n",
    "\n",
    "l_label= [[\"Analytical\",\"\"]]\n",
    "style = [ '--' ]\n",
    "\n",
    "for i in range(len(liste_mu)):\n",
    "    l_label.append(['Polynomial with Slow-Roll parameters',f'mu = {liste_mu[i]}'])\n",
    "    style.append('-')\n",
    "\n",
    "for i in range(len(liste_mu)):\n",
    "    l_label.append(['Brane_inflation',f'mu = {liste_mu[i]}'])\n",
    "    style.append('-')"
   ]
  },
  {
   "cell_type": "code",
   "execution_count": 183,
   "metadata": {},
   "outputs": [],
   "source": [
    "# #### -------  We run the simulation -------  #####\n",
    "\n",
    "# ## Run each Class computation\n",
    "# for i in range(len(cosmo)):\n",
    "#     cosmo[i].compute()\n",
    "\n",
    "# primo = [ cosmo[i].get_primordial() for i in range(len(cosmo))]\n"
   ]
  },
  {
   "cell_type": "code",
   "execution_count": 184,
   "metadata": {},
   "outputs": [],
   "source": [
    "# ###### ----- Extracting valuable data  (k, power spectra Ps(k), ...  correlation function in harmonic   Cl, ClT, ... ) ---- #####\n",
    "\n",
    "# kk = [ primo[i]['k [1/Mpc]'] for i in range(N)]\n",
    "\n",
    "# P_s= [ primo[i]['P_scalar(k)'] for i in range(N) ]\n",
    "# P_t= [ primo[i]['P_tensor(k)'] for i in range(N) ]\n",
    "\n",
    "# #cls = [ cosmo[i].raw_cl(l_max_tensors) for i in range(N) ]\n",
    "# cls = [cosmo[i].lensed_cl(2500) for i in range(N)]\n",
    "# ll = [cls[i]['ell'][2:] for i in range(N)]\n",
    "# clTT = [cls[i]['tt'][2:] for i in range(N)]\n",
    "# clEE = [cls[i]['ee'][2:] for i in range(N)]\n",
    "# clPP = [cls[i]['pp'][2:] for i in range(N)]\n",
    "\n",
    "# h = [ cosmo[i].h() for i in range(N) ] # get reduced Hubble for conversions to 1/Mpc\n",
    "\n",
    "\n"
   ]
  },
  {
   "attachments": {},
   "cell_type": "markdown",
   "metadata": {},
   "source": [
    "Essais et plottings !! :)"
   ]
  },
  {
   "cell_type": "code",
   "execution_count": 185,
   "metadata": {},
   "outputs": [],
   "source": [
    "# ##### --------- Plotting ------- #####\n",
    "# %matplotlib inline\n",
    "# #\n",
    "# import matplotlib\n",
    "# import matplotlib.pyplot as plt\n",
    "# #\n",
    "# font = {'size'   : 16, 'family':'STIXGeneral'}\n",
    "# axislabelfontsize='large'\n",
    "# matplotlib.rc('font', **font)\n",
    "# matplotlib.rcParams['legend.fontsize']='medium'\n",
    "# plt.rcParams[\"figure.figsize\"] = [8.0,6.0]\n",
    "\n",
    "\n",
    "\n",
    "# # Power spectrum scalar\n",
    "\n",
    "# for i in range(N):\n",
    "#     for k in kk[i]:\n",
    "#         P_s.append( primo[i]['P_scalar(k)'])\n",
    "#         P_t.append(primo[i]['P_tensor(k)'])\n",
    "\n",
    "\n",
    "#     plt.loglog(kk[i],P_s[i],color=C[i],linestyle=style[i],label= l_label[i][0]+\",\"+l_label[i][1])\n",
    "    \n",
    "\n",
    "# plt.xlabel(r'$k \\,\\,\\,\\, [h/\\mathrm{Mpc}]$')\n",
    "# plt.ylabel(r'$P(k) \\,\\,\\,\\, [\\mathrm{Mpc}/h]^3$')\n",
    "# plt.title(r\"\")\n",
    "\n",
    "# plt.grid()\n",
    "# plt.legend(bbox_to_anchor=(1.05, 1), loc='upper left', borderaxespad=0.)\n",
    "# plt.show()\n",
    "\n",
    "\n",
    "# # plot C_l^TT\n",
    "# from math import pi\n",
    "\n",
    "# plt.figure(1)\n",
    "# plt.xscale('log');plt.yscale('linear');plt.xlim(2,2500)\n",
    "# plt.xlabel(r'$\\ell$')\n",
    "# plt.ylabel(r'$[\\ell(\\ell+1)/2\\pi]  C_\\ell^\\mathrm{TT}$')\n",
    "# for i in range(N):\n",
    "#     plt.plot(ll[i],clTT[i]*ll[i]*(ll[i]+1)/2./pi,color=C[i],linestyle=style[i],label= l_label[i][0]+\",\"+l_label[i][1])\n",
    "# plt.legend(bbox_to_anchor=(1.05, 1), loc='upper left', borderaxespad=0.)\n",
    "# plt.show()\n",
    "\n",
    "\n",
    "\n",
    "# # plot C_l^TT\n",
    "# from math import pi\n",
    "\n",
    "# plt.figure(1)\n",
    "# plt.xscale('log');plt.yscale('linear');plt.xlim(2,2500)\n",
    "# plt.xlabel(r'$\\ell$')\n",
    "# plt.ylabel(r'$[\\ell(\\ell+1)/2\\pi]  C_\\ell^\\mathrm{TT}$')\n",
    "# for i in range(N):\n",
    "#     plt.plot(ll[i],clTT[i]*ll[i]*(ll[i]+1)/2./pi,color=C[i],linestyle=style[i],label= l_label[i][0]+\",\"+l_label[i][1])\n",
    "# plt.legend(bbox_to_anchor=(1.05, 1), loc='upper left', borderaxespad=0.)\n",
    "# plt.show()"
   ]
  }
 ],
 "metadata": {
  "kernelspec": {
   "display_name": "Python 3",
   "language": "python",
   "name": "python3"
  },
  "language_info": {
   "codemirror_mode": {
    "name": "ipython",
    "version": 3
   },
   "file_extension": ".py",
   "mimetype": "text/x-python",
   "name": "python",
   "nbconvert_exporter": "python",
   "pygments_lexer": "ipython3",
   "version": "3.10.6"
  },
  "orig_nbformat": 4
 },
 "nbformat": 4,
 "nbformat_minor": 2
}
