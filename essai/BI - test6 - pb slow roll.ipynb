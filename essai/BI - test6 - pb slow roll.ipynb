{
 "cells": [
  {
   "cell_type": "code",
   "execution_count": null,
   "metadata": {},
   "outputs": [],
   "source": [
    "from classy import Class\n",
    "import numpy as np\n",
    "from matplotlib import pyplot as plt"
   ]
  },
  {
   "attachments": {},
   "cell_type": "markdown",
   "metadata": {},
   "source": [
    "Potential and derivatives"
   ]
  },
  {
   "cell_type": "code",
   "execution_count": null,
   "metadata": {},
   "outputs": [],
   "source": [
    "from math import pi\n",
    "csteGrav = 6.6743015e-11\n",
    "M_pl = 1/np.sqrt(8*pi*csteGrav)\n",
    "\n",
    "# M_pl = 1\n",
    "\n",
    "def V_brane(phi,M4,mu,n):\n",
    "    return(M4/(1+pow(mu/phi,n)))\n",
    "\n",
    "def V_shift(phi,phi0,M4,mu,n):\n",
    "    return(V_brane(phi0-phi,M4,mu,n))\n",
    "\n",
    "def dV_brane(phi,M4,mu,n):\n",
    "    factor = M4*n*pow(mu,n)\n",
    "    denom = pow(phi,n)+pow(mu,n)\n",
    "    return(factor*pow(phi,n-1)/pow(denom,2))\n",
    "\n",
    "def ddV_brane(phi,M4,mu,n):\n",
    "    factor = M4*n*pow(mu,n)\n",
    "    factor2 = (n-1)*pow(mu,n)-(n+1)*pow(phi,n)\n",
    "    denom = pow(mu,n)+pow(phi,n)\n",
    "    return(factor*factor2/pow(denom,3))"
   ]
  },
  {
   "attachments": {},
   "cell_type": "markdown",
   "metadata": {},
   "source": [
    "Slow-roll parameters"
   ]
  },
  {
   "cell_type": "code",
   "execution_count": null,
   "metadata": {},
   "outputs": [],
   "source": [
    "\n",
    "def epsilon1(phi,M4,mu,n):\n",
    "    x=phi/mu\n",
    "    factor=pow(n*M_pl/mu, 2)\n",
    "    return( 0.5*factor/pow(x*(pow(x,n)+1),2)  )\n",
    "\n",
    "def epsilon1_bis(phi,M4,mu,n):\n",
    "    return(0.5*M_pl*pow(dV_brane(phi,M4,mu,n)/V_brane(phi,M4,mu,n),2))\n",
    "\n",
    "def epsilon2(phi,M4,mu,n):\n",
    "    x=phi/mu\n",
    "    factor = 2*n*pow(M_pl/mu,2)\n",
    "    numerator = (n+1)*pow(x,n)+1\n",
    "    denominator = x*(pow(x,n)+1)\n",
    "    return( factor*numerator/pow(denominator,2) )\n",
    "\n",
    "def epsilon3(phi,M4,mu,n):\n",
    "    x=phi/mu\n",
    "    factor = n*pow(M_pl/mu,2)\n",
    "    numerator = 2 + (n-4)*(n+1)*pow(x,n)  + (n+1)*(n+2)*pow(x,2*n)\n",
    "    denominator = pow( x*(pow(x,n)+1) , 2)\n",
    "    denominator = denominator* ((n+1)*pow(x,n) + 1 )\n",
    "    return( factor * numerator / denominator)"
   ]
  },
  {
   "cell_type": "code",
   "execution_count": null,
   "metadata": {},
   "outputs": [],
   "source": [
    "def epsilon1_true(phi,M4,mu,n):\n",
    "    factor = 0.5*pow(M_pl/mu,2)\n",
    "    return(factor*pow(dV_brane(phi,M4,mu,n)/V_brane(phi,M4,mu,n),2)  )\n",
    "\n",
    "def epsilon2_true(phi,M4,mu,n):\n",
    "    factor1 = pow(M_pl/mu,2)\n",
    "    factor2 = 0.5*pow(M_pl/mu,2)\n",
    "    quotient1 = ddV_brane(phi,M4,mu,n)/V_brane(phi,M4,mu,n)\n",
    "    quotient2 = dV_brane(phi,M4,mu,n)/V_brane(phi,M4,mu,n)\n",
    "    return(factor1*factor2*(pow(quotient2,2) - quotient1))"
   ]
  },
  {
   "attachments": {},
   "cell_type": "markdown",
   "metadata": {},
   "source": [
    "Calculate $\\phi_{end}$ and $\\phi_{start}$"
   ]
  },
  {
   "cell_type": "code",
   "execution_count": null,
   "metadata": {},
   "outputs": [],
   "source": [
    "## précision nécessaire pour pouvoir atteindre phi tel que  V(phi) proche de M4   (on utilise cette précision dans la fonction calculate phi start)\n",
    "def precision_mu(mu,N):\n",
    "    return(pow(10,-(49-N*(np.log10(mu/M_pl)+3))))\n",
    "    return(pow(10,-N))\n",
    "    return(pow(10,10-np.log10(mu/M_pl)))\n",
    "    return(pow(10,-(49-N*(np.log10(mu/M_pl)+3))))"
   ]
  },
  {
   "cell_type": "code",
   "execution_count": null,
   "metadata": {},
   "outputs": [],
   "source": [
    "#Calcule phi tel que V(phi) proche de M4 ... la précision recquise est expliquée après  (en fait elle dépend de M4 et donc de mu  (car M4/mu4 = 16/27))\n",
    "def calculate_phi_start_BI(M4,mu,n,precision):\n",
    "    return(mu*pow(M4/precision,1/n))"
   ]
  },
  {
   "cell_type": "code",
   "execution_count": null,
   "metadata": {},
   "outputs": [],
   "source": [
    "def calculate_phi_end_BI(M4,mu,n,precision):\n",
    "    N0=1000\n",
    "    phi_droite = calculate_phi_start_BI(M4,mu,n,precision)\n",
    "    liste_phi = np.linspace(1e-50,phi_droite,N0)\n",
    "    i_gauche = 0\n",
    "    i_droite = N0-1\n",
    "\n",
    "    i_mid = (i_gauche+i_droite)//2\n",
    "\n",
    "    while (i_gauche-i_droite)<=2:\n",
    "        print(i_gauche,i_droite)\n",
    "        if epsilon1(liste_phi[i_mid],M4,mu,n)>1:\n",
    "            i_gauche=i_mid\n",
    "        else:\n",
    "            i_droite=i_mid\n",
    "        \n",
    "        i_mid = (i_gauche+i_droite)//2\n",
    "    return(liste_phi[i_mid])\n",
    "\n"
   ]
  },
  {
   "cell_type": "code",
   "execution_count": null,
   "metadata": {},
   "outputs": [],
   "source": [
    "def essai_phi_end(N):\n",
    "    n=4\n",
    "    mu = 1e-2*M_pl\n",
    "    M4=4*pi*pi*16/27\n",
    "    eta=precision_mu(mu,N)\n",
    "    calculate_phi_end_BI(M4,mu,n,eta)\n",
    "\n",
    "essai_phi_end(4)"
   ]
  },
  {
   "cell_type": "code",
   "execution_count": null,
   "metadata": {},
   "outputs": [],
   "source": []
  },
  {
   "cell_type": "code",
   "execution_count": null,
   "metadata": {},
   "outputs": [],
   "source": [
    "from matplotlib.patches import Rectangle\n",
    "\n",
    "def plot_BI(M4,mu,n,N):\n",
    "\n",
    "    fig = plt.figure()\n",
    "    ax1 = plt.subplot(3,3,1)\n",
    "    ax2 = plt.subplot(3,3,4)\n",
    "    ax3 = plt.subplot(3,3,5)\n",
    "    ax4 = plt.subplot(3,3,6)\n",
    "    ax5 = plt.subplot(3,3,7)\n",
    "    ax6 = plt.subplot(3,3,8)\n",
    "    ax7 = plt.subplot(3,3,9)\n",
    "\n",
    "    eta = precision_mu(mu,N)\n",
    "    phi_start = calculate_phi_start_BI(M4,mu,n,eta)\n",
    "    print(r'\\phi_{start}/M_pl}',phi_start)\n",
    "    phi = np.linspace(1e-100,phi_start,10000)\n",
    "    V = V_brane(phi,M4,mu,n)\n",
    "    E1 = epsilon1(phi,M4,mu,n)\n",
    "    E2 = epsilon2(phi,M4,mu,n)\n",
    "    E3 = epsilon3(phi,M4,mu,n)\n",
    "    E1bis = epsilon1_true(phi,M4,mu,n)\n",
    "    E2bis = epsilon2_true(phi,M4,mu,n)\n",
    "\n",
    "    ax1.plot(phi/mu,V/M4)\n",
    "    ax2.plot(phi/mu,E1)\n",
    "    ax3.plot(phi/mu,E2)\n",
    "    ax4.plot(phi/mu,E3)\n",
    "    ax5.plot(phi/mu,E1bis)\n",
    "    ax6.plot(phi/mu,E2bis)\n",
    "    # ax7.plot(phi/mu,E3bis)\n",
    "\n",
    "    \n",
    "    fig.suptitle(f'Brane Inflation Potential and slow-roll parameters for p = {n}') \n",
    "\n",
    "    ax1.set_xlabel(r'$\\phi / \\mu$')\n",
    "    ax2.set_xlabel(r'$\\phi / \\mu$')\n",
    "    ax3.set_xlabel(r'$\\phi / \\mu$')\n",
    "    ax4.set_xlabel(r'$\\phi / \\mu$')\n",
    "    ax5.set_xlabel(r'$\\phi / \\mu$')\n",
    "    ax6.set_xlabel(r'$\\phi / \\mu$')\n",
    "    ax7.set_xlabel(r'$\\phi / \\mu$')\n",
    "\n",
    "    ax1.set_ylabel(r'$V(\\phi)$')\n",
    "    ax2.set_ylabel(r\"$\\epsilon_1(\\phi)$\")\n",
    "    ax3.set_ylabel(r\"$\\epsilon_2(\\phi)$\")\n",
    "    ax4.set_ylabel(r\"$\\epsilon_3(\\phi)$\")\n",
    "    ax5.set_ylabel(r\"$\\epsilon_1^T(\\phi)$\")\n",
    "    ax6.set_ylabel(r\"$\\epsilon_2^T(\\phi)$\")\n",
    "    ax7.set_ylabel(r\"$\\epsilon_3^T(\\phi)$\")\n",
    "\n",
    "\n",
    "    plt.tight_layout()\n",
    "    plt.show()"
   ]
  },
  {
   "cell_type": "code",
   "execution_count": null,
   "metadata": {},
   "outputs": [],
   "source": [
    "def essai1(N):\n",
    "    n=4\n",
    "    mu = 1e-2*M_pl\n",
    "    M4=4*pi*pi*16/27\n",
    "    plot_BI(M4,mu,n,N)\n",
    "essai1(1)"
   ]
  }
 ],
 "metadata": {
  "kernelspec": {
   "display_name": "Python 3",
   "language": "python",
   "name": "python3"
  },
  "language_info": {
   "codemirror_mode": {
    "name": "ipython",
    "version": 3
   },
   "file_extension": ".py",
   "mimetype": "text/x-python",
   "name": "python",
   "nbconvert_exporter": "python",
   "pygments_lexer": "ipython3",
   "version": "3.10.6"
  },
  "orig_nbformat": 4
 },
 "nbformat": 4,
 "nbformat_minor": 2
}
