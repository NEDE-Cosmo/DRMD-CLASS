{
 "cells": [
  {
   "cell_type": "code",
   "execution_count": 1,
   "metadata": {},
   "outputs": [],
   "source": [
    "##Librairies!!\n",
    "\n",
    "from classy import Class\n",
    "import numpy as np\n",
    "from matplotlib import pyplot as plt\n",
    "\n",
    "## create object\n",
    "LambdaCDM = Class()\n",
    "# parameters   blabla cf. explanatory.ini\n",
    "LambdaCDM.set({'omega_b':0.0223828,'omega_cdm':0.1201075,'h':0.67810,'A_s':2.100549e-09,'n_s':0.9660499,'tau_reio':0.05430842})\n",
    "#LambdaCDM.set({'omega_b':0.0223828,'omega_cdm':0.1201075,'h':0.67810,'A_s':2.100549e-09,'n_s':0.9660499,'tau_reio':0.05430842, 'r':4, 'k_pivot':0.05})\n",
    "LambdaCDM.set({'output':'tCl,pCl,lCl,mPk','lensing':'yes','P_k_max_1/Mpc':3.0})\n",
    "LambdaCDM.set({'modes':'s,t'})   \n",
    "LambdaCDM.set({'Pk_ini_type':'analytic_Pk'})      \n",
    "# we execute class :)\n",
    "LambdaCDM.compute()\n",
    "\n"
   ]
  },
  {
   "cell_type": "code",
   "execution_count": 2,
   "metadata": {},
   "outputs": [
    {
     "ename": "CosmoSevereError",
     "evalue": "\n\nError in Class: No density Cl computed",
     "output_type": "error",
     "traceback": [
      "\u001b[0;31m---------------------------------------------------------------------------\u001b[0m",
      "\u001b[0;31mCosmoSevereError\u001b[0m                          Traceback (most recent call last)",
      "Cell \u001b[0;32mIn[2], line 1\u001b[0m\n\u001b[0;32m----> 1\u001b[0m LambdaCDM\u001b[39m.\u001b[39;49mdensity_cl()\n",
      "File \u001b[0;32mclassy.pyx:661\u001b[0m, in \u001b[0;36mclassy.Class.density_cl\u001b[0;34m()\u001b[0m\n",
      "\u001b[0;31mCosmoSevereError\u001b[0m: \n\nError in Class: No density Cl computed"
     ]
    }
   ],
   "source": [
    "LambdaCDM.density_cl()"
   ]
  },
  {
   "cell_type": "code",
   "execution_count": 4,
   "metadata": {},
   "outputs": [],
   "source": [
    "import inspect\n",
    "\n",
    "\n",
    "def executer_fonction(nom_fonction):\n",
    "    try:\n",
    "        fonction = globals()[nom_fonction]  # Récupérer la fonction par son nom\n",
    "        signature = inspect.signature(fonction)\n",
    "        parameters = signature.parameters\n",
    "        if any(param.default == inspect.Parameter.empty for param in parameters.values()):\n",
    "            print(\"La fonction\", nom_fonction, \"nécessite un argument.\")\n",
    "        else:\n",
    "            fonction()\n",
    "    except KeyError:\n",
    "        print(\"La fonction\", nom_fonction, \"n'existe pas.\")\n"
   ]
  },
  {
   "cell_type": "code",
   "execution_count": 8,
   "metadata": {},
   "outputs": [
    {
     "name": "stdout",
     "output_type": "stream",
     "text": [
      "['Hubble', 'Neff', 'Om_b', 'Om_cdm', 'Om_m', 'Om_ncdm', 'Omega0_cdm', 'Omega0_k', 'Omega0_m', 'Omega_Lambda', 'Omega_b', 'Omega_g', 'Omega_m', 'Omega_nu', 'Omega_r', 'T_cmb', '__call__', '__class__', '__delattr__', '__dir__', '__doc__', '__eq__', '__format__', '__ge__', '__getattribute__', '__gt__', '__hash__', '__init__', '__init_subclass__', '__le__', '__lt__', '__ne__', '__new__', '__reduce__', '__reduce_ex__', '__repr__', '__setattr__', '__setstate__', '__sizeof__', '__str__', '__subclasshook__', '_check_task_dependency', '_fillparfile', '_pars_check', 'age', 'angular_distance', 'angular_distance_from_to', 'baryon_temperature', 'comoving_distance', 'compute', 'density_cl', 'effective_f_sigma8', 'effective_f_sigma8_spline', 'empty', 'fourier_hmcode_sigma8', 'fourier_hmcode_sigma8_cb', 'fourier_hmcode_sigmadisp', 'fourier_hmcode_sigmadisp100', 'fourier_hmcode_sigmadisp100_cb', 'fourier_hmcode_sigmadisp_cb', 'fourier_hmcode_sigmaprime', 'fourier_hmcode_sigmaprime_cb', 'fourier_hmcode_window_nfw', 'get_Weyl_pk_and_k_and_z', 'get_background', 'get_current_derived_parameters', 'get_perturbations', 'get_pk', 'get_pk_all', 'get_pk_and_k_and_z', 'get_pk_array', 'get_pk_cb', 'get_pk_cb_array', 'get_pk_cb_lin', 'get_pk_lin', 'get_primordial', 'get_sources', 'get_thermodynamics', 'get_transfer', 'get_transfer_and_k_and_z', 'h', 'ionization_fraction', 'k_eq', 'lensed_cl', 'luminosity_distance', 'n_s', 'nonlinear_method', 'nonlinear_scale', 'nonlinear_scale_cb', 'omega_b', 'pars', 'pk', 'pk_cb', 'pk_cb_lin', 'pk_lin', 'pk_tilt', 'raw_cl', 'rs_drag', 'scale_independent_f_sigma8', 'scale_independent_growth_factor', 'scale_independent_growth_factor_f', 'set', 'set_default', 'sigma', 'sigma8', 'sigma8_cb', 'sigma_cb', 'spectral_distortion', 'spectral_distortion_amplitudes', 'state', 'struct_cleanup', 'tau_reio', 'theta_s_100', 'theta_star_100', 'z_eq', 'z_of_r', 'z_of_tau', 'z_reio']\n",
      "['Hubble', 'Neff', 'Om_b', 'Om_cdm', 'Om_m', 'Om_ncdm', 'Omega0_cdm', 'Omega0_k', 'Omega0_m', 'Omega_Lambda', 'Omega_b', 'Omega_g', 'Omega_m', 'Omega_nu', 'Omega_r', 'T_cmb', '__call__', '__class__', '__delattr__', '__dir__', '__doc__', '__eq__', '__format__', '__ge__', '__getattribute__', '__gt__', '__hash__', '__init__', '__init_subclass__', '__le__', '__lt__', '__ne__', '__new__', '__reduce__', '__reduce_ex__', '__repr__', '__setattr__', '__setstate__', '__sizeof__', '__str__', '__subclasshook__', '_check_task_dependency', '_fillparfile', '_pars_check', 'age', 'angular_distance', 'angular_distance_from_to', 'baryon_temperature', 'comoving_distance', 'compute', 'effective_f_sigma8', 'effective_f_sigma8_spline', 'empty', 'fourier_hmcode_sigma8', 'fourier_hmcode_sigma8_cb', 'fourier_hmcode_sigmadisp', 'fourier_hmcode_sigmadisp100', 'fourier_hmcode_sigmadisp100_cb', 'fourier_hmcode_sigmadisp_cb', 'fourier_hmcode_sigmaprime', 'fourier_hmcode_sigmaprime_cb', 'fourier_hmcode_window_nfw', 'get_Weyl_pk_and_k_and_z', 'get_background', 'get_current_derived_parameters', 'get_perturbations', 'get_pk', 'get_pk_all', 'get_pk_and_k_and_z', 'get_pk_array', 'get_pk_cb', 'get_pk_cb_array', 'get_pk_cb_lin', 'get_pk_lin', 'get_primordial', 'get_sources', 'get_thermodynamics', 'get_transfer', 'get_transfer_and_k_and_z', 'h', 'ionization_fraction', 'k_eq', 'lensed_cl', 'luminosity_distance', 'n_s', 'nonlinear_method', 'nonlinear_scale', 'nonlinear_scale_cb', 'omega_b', 'pars', 'pk', 'pk_cb', 'pk_cb_lin', 'pk_lin', 'pk_tilt', 'raw_cl', 'rs_drag', 'scale_independent_f_sigma8', 'scale_independent_growth_factor', 'scale_independent_growth_factor_f', 'set', 'set_default', 'sigma', 'sigma8', 'sigma8_cb', 'sigma_cb', 'spectral_distortion', 'spectral_distortion_amplitudes', 'state', 'struct_cleanup', 'tau_reio', 'theta_s_100', 'theta_star_100', 'z_eq', 'z_of_r', 'z_of_tau', 'z_reio']\n"
     ]
    }
   ],
   "source": [
    "trueList = dir(LambdaCDM)\n",
    "print(trueList)\n",
    "trueList.remove('density_cl')\n",
    "print(trueList)\n"
   ]
  },
  {
   "cell_type": "code",
   "execution_count": 13,
   "metadata": {},
   "outputs": [
    {
     "ename": "TypeError",
     "evalue": "Class.Hubble() takes exactly one argument (0 given)",
     "output_type": "error",
     "traceback": [
      "\u001b[0;31m---------------------------------------------------------------------------\u001b[0m",
      "\u001b[0;31mTypeError\u001b[0m                                 Traceback (most recent call last)",
      "Cell \u001b[0;32mIn[13], line 2\u001b[0m\n\u001b[1;32m      1\u001b[0m \u001b[39mfor\u001b[39;00m s \u001b[39min\u001b[39;00m trueList:\n\u001b[0;32m----> 2\u001b[0m     executer_fonction(\u001b[39mgetattr\u001b[39;49m(LambdaCDM,s)())\n",
      "\u001b[0;31mTypeError\u001b[0m: Class.Hubble() takes exactly one argument (0 given)"
     ]
    }
   ],
   "source": [
    "for s in trueList:\n",
    "    executer_fonction(getattr(LambdaCDM,s)())"
   ]
  }
 ],
 "metadata": {
  "kernelspec": {
   "display_name": "Python 3",
   "language": "python",
   "name": "python3"
  },
  "language_info": {
   "codemirror_mode": {
    "name": "ipython",
    "version": 3
   },
   "file_extension": ".py",
   "mimetype": "text/x-python",
   "name": "python",
   "nbconvert_exporter": "python",
   "pygments_lexer": "ipython3",
   "version": "3.10.6"
  },
  "orig_nbformat": 4
 },
 "nbformat": 4,
 "nbformat_minor": 2
}
