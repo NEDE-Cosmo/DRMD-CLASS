{
 "cells": [
  {
   "cell_type": "code",
   "execution_count": 1,
   "metadata": {},
   "outputs": [],
   "source": [
    "from classy import Class\n",
    "import numpy as np\n",
    "from matplotlib import pyplot as plt"
   ]
  },
  {
   "cell_type": "code",
   "execution_count": 2,
   "metadata": {},
   "outputs": [
    {
     "name": "stdout",
     "output_type": "stream",
     "text": [
      "Liste des méthodes\n",
      "['Hubble', 'Neff', 'Om_b', 'Om_cdm', 'Om_m', 'Om_ncdm', 'Omega0_cdm', 'Omega0_k', 'Omega0_m', 'Omega_Lambda', 'Omega_b', 'Omega_g', 'Omega_m', 'Omega_nu', 'Omega_r', 'T_cmb', '__call__', '__class__', '__delattr__', '__dir__', '__doc__', '__eq__', '__format__', '__ge__', '__getattribute__', '__gt__', '__hash__', '__init__', '__init_subclass__', '__le__', '__lt__', '__ne__', '__new__', '__reduce__', '__reduce_ex__', '__repr__', '__setattr__', '__setstate__', '__sizeof__', '__str__', '__subclasshook__', '_check_task_dependency', '_fillparfile', '_pars_check', 'age', 'angular_distance', 'angular_distance_from_to', 'baryon_temperature', 'comoving_distance', 'compute', 'density_cl', 'effective_f_sigma8', 'effective_f_sigma8_spline', 'empty', 'fourier_hmcode_sigma8', 'fourier_hmcode_sigma8_cb', 'fourier_hmcode_sigmadisp', 'fourier_hmcode_sigmadisp100', 'fourier_hmcode_sigmadisp100_cb', 'fourier_hmcode_sigmadisp_cb', 'fourier_hmcode_sigmaprime', 'fourier_hmcode_sigmaprime_cb', 'fourier_hmcode_window_nfw', 'get_Weyl_pk_and_k_and_z', 'get_background', 'get_current_derived_parameters', 'get_perturbations', 'get_pk', 'get_pk_all', 'get_pk_and_k_and_z', 'get_pk_array', 'get_pk_cb', 'get_pk_cb_array', 'get_pk_cb_lin', 'get_pk_lin', 'get_primordial', 'get_sources', 'get_thermodynamics', 'get_transfer', 'get_transfer_and_k_and_z', 'h', 'ionization_fraction', 'k_eq', 'lensed_cl', 'luminosity_distance', 'n_s', 'nonlinear_method', 'nonlinear_scale', 'nonlinear_scale_cb', 'omega_b', 'pars', 'pk', 'pk_cb', 'pk_cb_lin', 'pk_lin', 'pk_tilt', 'raw_cl', 'rs_drag', 'scale_independent_f_sigma8', 'scale_independent_growth_factor', 'scale_independent_growth_factor_f', 'set', 'set_default', 'sigma', 'sigma8', 'sigma8_cb', 'sigma_cb', 'spectral_distortion', 'spectral_distortion_amplitudes', 'state', 'struct_cleanup', 'tau_reio', 'theta_s_100', 'theta_star_100', 'z_eq', 'z_of_r', 'z_of_tau', 'z_reio']\n",
      "\n",
      "get_background\n",
      "dict_keys(['z', 'proper time [Gyr]', 'conf. time [Mpc]', 'H [1/Mpc]', 'comov. dist.', 'ang.diam.dist.', 'lum. dist.', 'comov.snd.hrz.', '(.)rho_g', '(.)rho_b', '(.)rho_cdm', '(.)rho_lambda', '(.)rho_ur', '(.)rho_crit', '(.)rho_tot', '(.)p_tot', '(.)p_tot_prime', 'gr.fac. D', 'gr.fac. f'])\n",
      "\n",
      "get_perturbations\n",
      "dict_keys([])\n",
      "\n",
      "get_primordial\n",
      "dict_keys(['k [1/Mpc]', 'P_scalar(k)', 'P_tensor(k)'])\n",
      "\n",
      "get_thermodynamics\n",
      "dict_keys(['scale factor a', 'z', 'conf. time [Mpc]', 'x_e', \"kappa' [Mpc^-1]\", 'exp(-kappa)', 'g [Mpc^-1]', 'Tb [K]', 'dTb [K]', 'w_b', 'c_b^2', 'tau_d'])\n"
     ]
    }
   ],
   "source": [
    "#List of functions/methods/...\n",
    "test=Class()\n",
    "test.set({'output':'tCl,pCl,lCl,mPk,dTk,vTk','lensing':'yes','P_k_max_1/Mpc':3.0})\n",
    "test.set({'omega_b':0.0223828,'omega_cdm':0.1201075,'h':0.67810,'A_s':2.100549e-09,'n_s':0.9660499,'tau_reio':0.05430842, 'r':3, 'k_pivot':0.05})\n",
    "test.set({'modes':'s,t'})   \n",
    "test.set({'Pk_ini_type':'analytic_Pk'}) \n",
    "test.set({'z_max_pk':10})\n",
    "test.compute()   \n",
    "\n",
    "#List of functions/methods/...\n",
    "#test2=Class()   \n",
    "#test2.set({'output':'tCl,pCl,lCl,mPk,dTk,vTk','lensing':'yes','P_k_max_1/Mpc':3.0})\n",
    "#test2.set({'modes':'s,t'})   \n",
    "#test2.set({'Pk_ini_type':'inflation_V'})  \n",
    "#test2.set({'potential':'polynomial'})\n",
    "#test2.set({'V_0':1.e-13,'V_1':-1.e-14,'V_2':7.e-14,'V_3':0.,'V_4':0.}) \n",
    "#test2.set({'z_max_pk':10}) \n",
    "#test2.compute()\n",
    "\n",
    "# Liste of the methods\n",
    "print(\"Liste des méthodes\")\n",
    "print(dir(test))\n",
    "#print(dir(test2))\n",
    "\n",
    "    # 0 parameters recquired :   test.get_blabla()\n",
    "L=['get_background', 'get_perturbations', 'get_primordial', 'get_thermodynamics']\n",
    "    \n",
    "    # 0 parameters but it doesn't work idk why\n",
    "L0 = ['get_Weyl_pk_and_k_and_z', 'get_pk_and_k_and_z','get_transfer_and_k_and_z']\n",
    "        # error :\n",
    "        #  File classy.pyx:1120, in classy.Class.get_transfer_and_k_and_z()\n",
    "        #  ValueError: negative dimensions are not allowed\n",
    "\n",
    "\n",
    "    # 1 parameters recquired :   test.get_blabla(x)\n",
    "L1 = ['get_current_derived_parameters']\n",
    "    # 2 parameters recquired\n",
    "L2 = ['get_pk_all']\n",
    "    # 5 parameters recquired\n",
    "L5 = ['get_pk','get_pk_array','get_pk_cb','get_pk_cb_array','get_pk_cb_lin','get_pk_lin']\n",
    "\n",
    "\n",
    "for s in L:\n",
    "    print()\n",
    "    print(s)\n",
    "    print(getattr(test,s)().keys())\n",
    "    #print(getattr(test2,s)().keys())\n",
    "\n",
    "    \n"
   ]
  },
  {
   "attachments": {},
   "cell_type": "markdown",
   "metadata": {},
   "source": [
    "Essai"
   ]
  },
  {
   "cell_type": "code",
   "execution_count": 25,
   "metadata": {},
   "outputs": [
    {
     "ename": "CosmoSevereError",
     "evalue": "\n\nError in Class: No density Cl computed",
     "output_type": "error",
     "traceback": [
      "\u001b[0;31m---------------------------------------------------------------------------\u001b[0m",
      "\u001b[0;31mCosmoSevereError\u001b[0m                          Traceback (most recent call last)",
      "Cell \u001b[0;32mIn[25], line 17\u001b[0m\n\u001b[1;32m     15\u001b[0m method \u001b[39m=\u001b[39m \u001b[39mgetattr\u001b[39m(test, method_name)\n\u001b[1;32m     16\u001b[0m \u001b[39mtry\u001b[39;00m:\n\u001b[0;32m---> 17\u001b[0m     result \u001b[39m=\u001b[39m method()\n\u001b[1;32m     18\u001b[0m     \u001b[39mif\u001b[39;00m \u001b[39misinstance\u001b[39m(result, \u001b[39mdict\u001b[39m):\n\u001b[1;32m     19\u001b[0m         \u001b[39mprint\u001b[39m(\u001b[39m\"\u001b[39m\u001b[39mMéthode :\u001b[39m\u001b[39m\"\u001b[39m, method_name)\n",
      "File \u001b[0;32mclassy.pyx:661\u001b[0m, in \u001b[0;36mclassy.Class.density_cl\u001b[0;34m()\u001b[0m\n",
      "\u001b[0;31mCosmoSevereError\u001b[0m: \n\nError in Class: No density Cl computed"
     ]
    }
   ],
   "source": [
    "# Création de l'objet test\n",
    "test = Class()\n",
    "test.set({'output':'tCl,pCl,lCl,mPk,dTk,vTk','lensing':'yes','P_k_max_1/Mpc':3.0})\n",
    "test.set({'omega_b':0.0223828,'omega_cdm':0.1201075,'h':0.67810,'A_s':2.100549e-09,'n_s':0.9660499,'tau_reio':0.05430842, 'r':3, 'k_pivot':0.05})\n",
    "test.set({'modes':'s,t'})   \n",
    "test.set({'Pk_ini_type':'analytic_Pk'}) \n",
    "test.set({'z_max_pk':10})\n",
    "test.compute()  \n",
    "\n",
    "# Obtention de la liste des méthodes de l'objet test\n",
    "method_list = [method_name for method_name in dir(test) if callable(getattr(test, method_name))]\n",
    "\n",
    "# Parcours des méthodes et affichage des clés des objets retournés\n",
    "for method_name in method_list:\n",
    "    method = getattr(test, method_name)\n",
    "    try:\n",
    "        result = method()\n",
    "        if isinstance(result, dict):\n",
    "            print(\"Méthode :\", method_name)\n",
    "            print(\"Clés de l'objet retourné :\", list(result.keys()))\n",
    "            print()\n",
    "    except TypeError:\n",
    "        continue\n"
   ]
  },
  {
   "cell_type": "code",
   "execution_count": 19,
   "metadata": {},
   "outputs": [
    {
     "name": "stdout",
     "output_type": "stream",
     "text": [
      "['Hubble', 'Neff', 'Om_b', 'Om_cdm', 'Om_m', 'Om_ncdm', 'Omega0_cdm', 'Omega0_k', 'Omega0_m', 'Omega_Lambda', 'Omega_b', 'Omega_g', 'Omega_m', 'Omega_nu', 'Omega_r', 'T_cmb', '__call__', '__class__', '__delattr__', '__dir__', '__doc__', '__eq__', '__format__', '__ge__', '__getattribute__', '__gt__', '__hash__', '__init__', '__init_subclass__', '__le__', '__lt__', '__ne__', '__new__', '__reduce__', '__reduce_ex__', '__repr__', '__setattr__', '__setstate__', '__sizeof__', '__str__', '__subclasshook__', '_check_task_dependency', '_fillparfile', '_pars_check', 'age', 'angular_distance', 'angular_distance_from_to', 'baryon_temperature', 'comoving_distance', 'compute', 'density_cl', 'effective_f_sigma8', 'effective_f_sigma8_spline', 'empty', 'fourier_hmcode_sigma8', 'fourier_hmcode_sigma8_cb', 'fourier_hmcode_sigmadisp', 'fourier_hmcode_sigmadisp100', 'fourier_hmcode_sigmadisp100_cb', 'fourier_hmcode_sigmadisp_cb', 'fourier_hmcode_sigmaprime', 'fourier_hmcode_sigmaprime_cb', 'fourier_hmcode_window_nfw', 'get_Weyl_pk_and_k_and_z', 'get_background', 'get_current_derived_parameters', 'get_perturbations', 'get_pk', 'get_pk_all', 'get_pk_and_k_and_z', 'get_pk_array', 'get_pk_cb', 'get_pk_cb_array', 'get_pk_cb_lin', 'get_pk_lin', 'get_primordial', 'get_sources', 'get_thermodynamics', 'get_transfer', 'get_transfer_and_k_and_z', 'h', 'ionization_fraction', 'k_eq', 'lensed_cl', 'luminosity_distance', 'n_s', 'nonlinear_method', 'nonlinear_scale', 'nonlinear_scale_cb', 'omega_b', 'pars', 'pk', 'pk_cb', 'pk_cb_lin', 'pk_lin', 'pk_tilt', 'raw_cl', 'rs_drag', 'scale_independent_f_sigma8', 'scale_independent_growth_factor', 'scale_independent_growth_factor_f', 'set', 'set_default', 'sigma', 'sigma8', 'sigma8_cb', 'sigma_cb', 'spectral_distortion', 'spectral_distortion_amplitudes', 'state', 'struct_cleanup', 'tau_reio', 'theta_s_100', 'theta_star_100', 'z_eq', 'z_of_r', 'z_of_tau', 'z_reio']\n"
     ]
    }
   ],
   "source": [
    "trueList = dir(test)\n",
    "print(trueList)\n"
   ]
  },
  {
   "cell_type": "code",
   "execution_count": 21,
   "metadata": {},
   "outputs": [
    {
     "ename": "TypeError",
     "evalue": "Class.Hubble() takes exactly one argument (0 given)",
     "output_type": "error",
     "traceback": [
      "\u001b[0;31m---------------------------------------------------------------------------\u001b[0m",
      "\u001b[0;31mTypeError\u001b[0m                                 Traceback (most recent call last)",
      "Cell \u001b[0;32mIn[21], line 2\u001b[0m\n\u001b[1;32m      1\u001b[0m \u001b[39mfor\u001b[39;00m s \u001b[39min\u001b[39;00m trueList:\n\u001b[0;32m----> 2\u001b[0m     \u001b[39mprint\u001b[39m(\u001b[39mgetattr\u001b[39;49m(test,s)())\n",
      "\u001b[0;31mTypeError\u001b[0m: Class.Hubble() takes exactly one argument (0 given)"
     ]
    }
   ],
   "source": [
    "for s in trueList:\n",
    "    print(getattr(test,s)())"
   ]
  },
  {
   "cell_type": "code",
   "execution_count": 12,
   "metadata": {},
   "outputs": [
    {
     "name": "stdout",
     "output_type": "stream",
     "text": [
      "Cette fonction ne nécessite pas d'argument.\n",
      "La fonction fonction_avec_argument nécessite un argument.\n",
      "La fonction fonction_inexistante n'existe pas.\n"
     ]
    }
   ],
   "source": [
    "import inspect\n",
    "\n",
    "def fonction_sans_argument():\n",
    "    print(\"Cette fonction ne nécessite pas d'argument.\")\n",
    "\n",
    "def fonction_avec_argument(arg):\n",
    "    print(\"Cette fonction nécessite un argument :\", arg)\n",
    "\n",
    "def executer_fonction(nom_fonction):\n",
    "    try:\n",
    "        fonction = globals()[nom_fonction]  # Récupérer la fonction par son nom\n",
    "        signature = inspect.signature(fonction)\n",
    "        parameters = signature.parameters\n",
    "        if any(param.default == inspect.Parameter.empty for param in parameters.values()):\n",
    "            print(\"La fonction\", nom_fonction, \"nécessite un argument.\")\n",
    "        else:\n",
    "            fonction()\n",
    "    except KeyError:\n",
    "        print(\"La fonction\", nom_fonction, \"n'existe pas.\")\n",
    "\n",
    "# Liste des noms de fonctions\n",
    "liste_fonctions = [\"fonction_sans_argument\", \"fonction_avec_argument\", \"fonction_inexistante\"]\n",
    "\n",
    "# Exécuter les fonctions de la liste avec 0 argument\n",
    "for fonction in liste_fonctions:\n",
    "    executer_fonction(fonction)\n"
   ]
  },
  {
   "cell_type": "code",
   "execution_count": 17,
   "metadata": {},
   "outputs": [
    {
     "name": "stdout",
     "output_type": "stream",
     "text": [
      "La fonction <built-in method get_background of classy.Class object at 0x560fd279e760> n'existe pas.\n",
      "La fonction <built-in method get_background of classy.Class object at 0x560fd279e760> n'existe pas.\n",
      "La fonction <built-in method get_background of classy.Class object at 0x560fd279e760> n'existe pas.\n",
      "La fonction <built-in method get_background of classy.Class object at 0x560fd279e760> n'existe pas.\n",
      "La fonction <built-in method get_background of classy.Class object at 0x560fd279e760> n'existe pas.\n",
      "La fonction <built-in method get_background of classy.Class object at 0x560fd279e760> n'existe pas.\n",
      "La fonction <built-in method get_background of classy.Class object at 0x560fd279e760> n'existe pas.\n",
      "La fonction <built-in method get_background of classy.Class object at 0x560fd279e760> n'existe pas.\n",
      "La fonction <built-in method get_background of classy.Class object at 0x560fd279e760> n'existe pas.\n",
      "La fonction <built-in method get_background of classy.Class object at 0x560fd279e760> n'existe pas.\n",
      "La fonction <built-in method get_background of classy.Class object at 0x560fd279e760> n'existe pas.\n",
      "La fonction <built-in method get_background of classy.Class object at 0x560fd279e760> n'existe pas.\n",
      "La fonction <built-in method get_background of classy.Class object at 0x560fd279e760> n'existe pas.\n",
      "La fonction <built-in method get_background of classy.Class object at 0x560fd279e760> n'existe pas.\n",
      "La fonction <built-in method get_background of classy.Class object at 0x560fd279e760> n'existe pas.\n",
      "La fonction <built-in method get_background of classy.Class object at 0x560fd279e760> n'existe pas.\n",
      "La fonction <built-in method get_background of classy.Class object at 0x560fd279e760> n'existe pas.\n",
      "La fonction <built-in method get_background of classy.Class object at 0x560fd279e760> n'existe pas.\n",
      "La fonction <built-in method get_background of classy.Class object at 0x560fd279e760> n'existe pas.\n",
      "La fonction <built-in method get_background of classy.Class object at 0x560fd279e760> n'existe pas.\n",
      "La fonction <built-in method get_background of classy.Class object at 0x560fd279e760> n'existe pas.\n",
      "La fonction <built-in method get_background of classy.Class object at 0x560fd279e760> n'existe pas.\n",
      "La fonction <built-in method get_background of classy.Class object at 0x560fd279e760> n'existe pas.\n",
      "La fonction <built-in method get_background of classy.Class object at 0x560fd279e760> n'existe pas.\n",
      "La fonction <built-in method get_background of classy.Class object at 0x560fd279e760> n'existe pas.\n",
      "La fonction <built-in method get_background of classy.Class object at 0x560fd279e760> n'existe pas.\n",
      "La fonction <built-in method get_background of classy.Class object at 0x560fd279e760> n'existe pas.\n",
      "La fonction <built-in method get_background of classy.Class object at 0x560fd279e760> n'existe pas.\n",
      "La fonction <built-in method get_background of classy.Class object at 0x560fd279e760> n'existe pas.\n",
      "La fonction <built-in method get_background of classy.Class object at 0x560fd279e760> n'existe pas.\n",
      "La fonction <built-in method get_background of classy.Class object at 0x560fd279e760> n'existe pas.\n",
      "La fonction <built-in method get_background of classy.Class object at 0x560fd279e760> n'existe pas.\n",
      "La fonction <built-in method get_background of classy.Class object at 0x560fd279e760> n'existe pas.\n",
      "La fonction <built-in method get_background of classy.Class object at 0x560fd279e760> n'existe pas.\n",
      "La fonction <built-in method get_background of classy.Class object at 0x560fd279e760> n'existe pas.\n",
      "La fonction <built-in method get_background of classy.Class object at 0x560fd279e760> n'existe pas.\n",
      "La fonction <built-in method get_background of classy.Class object at 0x560fd279e760> n'existe pas.\n",
      "La fonction <built-in method get_background of classy.Class object at 0x560fd279e760> n'existe pas.\n",
      "La fonction <built-in method get_background of classy.Class object at 0x560fd279e760> n'existe pas.\n",
      "La fonction <built-in method get_background of classy.Class object at 0x560fd279e760> n'existe pas.\n",
      "La fonction <built-in method get_background of classy.Class object at 0x560fd279e760> n'existe pas.\n",
      "La fonction <built-in method get_background of classy.Class object at 0x560fd279e760> n'existe pas.\n",
      "La fonction <built-in method get_background of classy.Class object at 0x560fd279e760> n'existe pas.\n",
      "La fonction <built-in method get_background of classy.Class object at 0x560fd279e760> n'existe pas.\n",
      "La fonction <built-in method get_background of classy.Class object at 0x560fd279e760> n'existe pas.\n",
      "La fonction <built-in method get_background of classy.Class object at 0x560fd279e760> n'existe pas.\n",
      "La fonction <built-in method get_background of classy.Class object at 0x560fd279e760> n'existe pas.\n",
      "La fonction <built-in method get_background of classy.Class object at 0x560fd279e760> n'existe pas.\n",
      "La fonction <built-in method get_background of classy.Class object at 0x560fd279e760> n'existe pas.\n",
      "La fonction <built-in method get_background of classy.Class object at 0x560fd279e760> n'existe pas.\n",
      "La fonction <built-in method get_background of classy.Class object at 0x560fd279e760> n'existe pas.\n",
      "La fonction <built-in method get_background of classy.Class object at 0x560fd279e760> n'existe pas.\n",
      "La fonction <built-in method get_background of classy.Class object at 0x560fd279e760> n'existe pas.\n",
      "La fonction <built-in method get_background of classy.Class object at 0x560fd279e760> n'existe pas.\n",
      "La fonction <built-in method get_background of classy.Class object at 0x560fd279e760> n'existe pas.\n",
      "La fonction <built-in method get_background of classy.Class object at 0x560fd279e760> n'existe pas.\n",
      "La fonction <built-in method get_background of classy.Class object at 0x560fd279e760> n'existe pas.\n",
      "La fonction <built-in method get_background of classy.Class object at 0x560fd279e760> n'existe pas.\n",
      "La fonction <built-in method get_background of classy.Class object at 0x560fd279e760> n'existe pas.\n",
      "La fonction <built-in method get_background of classy.Class object at 0x560fd279e760> n'existe pas.\n",
      "La fonction <built-in method get_background of classy.Class object at 0x560fd279e760> n'existe pas.\n",
      "La fonction <built-in method get_background of classy.Class object at 0x560fd279e760> n'existe pas.\n",
      "La fonction <built-in method get_background of classy.Class object at 0x560fd279e760> n'existe pas.\n",
      "La fonction <built-in method get_background of classy.Class object at 0x560fd279e760> n'existe pas.\n",
      "La fonction <built-in method get_background of classy.Class object at 0x560fd279e760> n'existe pas.\n",
      "La fonction <built-in method get_background of classy.Class object at 0x560fd279e760> n'existe pas.\n",
      "La fonction <built-in method get_background of classy.Class object at 0x560fd279e760> n'existe pas.\n",
      "La fonction <built-in method get_background of classy.Class object at 0x560fd279e760> n'existe pas.\n",
      "La fonction <built-in method get_background of classy.Class object at 0x560fd279e760> n'existe pas.\n",
      "La fonction <built-in method get_background of classy.Class object at 0x560fd279e760> n'existe pas.\n",
      "La fonction <built-in method get_background of classy.Class object at 0x560fd279e760> n'existe pas.\n",
      "La fonction <built-in method get_background of classy.Class object at 0x560fd279e760> n'existe pas.\n",
      "La fonction <built-in method get_background of classy.Class object at 0x560fd279e760> n'existe pas.\n",
      "La fonction <built-in method get_background of classy.Class object at 0x560fd279e760> n'existe pas.\n",
      "La fonction <built-in method get_background of classy.Class object at 0x560fd279e760> n'existe pas.\n",
      "La fonction <built-in method get_background of classy.Class object at 0x560fd279e760> n'existe pas.\n",
      "La fonction <built-in method get_background of classy.Class object at 0x560fd279e760> n'existe pas.\n",
      "La fonction <built-in method get_background of classy.Class object at 0x560fd279e760> n'existe pas.\n",
      "La fonction <built-in method get_background of classy.Class object at 0x560fd279e760> n'existe pas.\n",
      "La fonction <built-in method get_background of classy.Class object at 0x560fd279e760> n'existe pas.\n",
      "La fonction <built-in method get_background of classy.Class object at 0x560fd279e760> n'existe pas.\n",
      "La fonction <built-in method get_background of classy.Class object at 0x560fd279e760> n'existe pas.\n",
      "La fonction <built-in method get_background of classy.Class object at 0x560fd279e760> n'existe pas.\n",
      "La fonction <built-in method get_background of classy.Class object at 0x560fd279e760> n'existe pas.\n",
      "La fonction <built-in method get_background of classy.Class object at 0x560fd279e760> n'existe pas.\n",
      "La fonction <built-in method get_background of classy.Class object at 0x560fd279e760> n'existe pas.\n",
      "La fonction <built-in method get_background of classy.Class object at 0x560fd279e760> n'existe pas.\n",
      "La fonction <built-in method get_background of classy.Class object at 0x560fd279e760> n'existe pas.\n",
      "La fonction <built-in method get_background of classy.Class object at 0x560fd279e760> n'existe pas.\n",
      "La fonction <built-in method get_background of classy.Class object at 0x560fd279e760> n'existe pas.\n",
      "La fonction <built-in method get_background of classy.Class object at 0x560fd279e760> n'existe pas.\n",
      "La fonction <built-in method get_background of classy.Class object at 0x560fd279e760> n'existe pas.\n",
      "La fonction <built-in method get_background of classy.Class object at 0x560fd279e760> n'existe pas.\n",
      "La fonction <built-in method get_background of classy.Class object at 0x560fd279e760> n'existe pas.\n",
      "La fonction <built-in method get_background of classy.Class object at 0x560fd279e760> n'existe pas.\n",
      "La fonction <built-in method get_background of classy.Class object at 0x560fd279e760> n'existe pas.\n",
      "La fonction <built-in method get_background of classy.Class object at 0x560fd279e760> n'existe pas.\n",
      "La fonction <built-in method get_background of classy.Class object at 0x560fd279e760> n'existe pas.\n",
      "La fonction <built-in method get_background of classy.Class object at 0x560fd279e760> n'existe pas.\n",
      "La fonction <built-in method get_background of classy.Class object at 0x560fd279e760> n'existe pas.\n",
      "La fonction <built-in method get_background of classy.Class object at 0x560fd279e760> n'existe pas.\n",
      "La fonction <built-in method get_background of classy.Class object at 0x560fd279e760> n'existe pas.\n",
      "La fonction <built-in method get_background of classy.Class object at 0x560fd279e760> n'existe pas.\n",
      "La fonction <built-in method get_background of classy.Class object at 0x560fd279e760> n'existe pas.\n",
      "La fonction <built-in method get_background of classy.Class object at 0x560fd279e760> n'existe pas.\n",
      "La fonction <built-in method get_background of classy.Class object at 0x560fd279e760> n'existe pas.\n",
      "La fonction <built-in method get_background of classy.Class object at 0x560fd279e760> n'existe pas.\n",
      "La fonction <built-in method get_background of classy.Class object at 0x560fd279e760> n'existe pas.\n",
      "La fonction <built-in method get_background of classy.Class object at 0x560fd279e760> n'existe pas.\n",
      "La fonction <built-in method get_background of classy.Class object at 0x560fd279e760> n'existe pas.\n",
      "La fonction <built-in method get_background of classy.Class object at 0x560fd279e760> n'existe pas.\n",
      "La fonction <built-in method get_background of classy.Class object at 0x560fd279e760> n'existe pas.\n",
      "La fonction <built-in method get_background of classy.Class object at 0x560fd279e760> n'existe pas.\n",
      "La fonction <built-in method get_background of classy.Class object at 0x560fd279e760> n'existe pas.\n",
      "La fonction <built-in method get_background of classy.Class object at 0x560fd279e760> n'existe pas.\n",
      "La fonction <built-in method get_background of classy.Class object at 0x560fd279e760> n'existe pas.\n",
      "La fonction <built-in method get_background of classy.Class object at 0x560fd279e760> n'existe pas.\n",
      "La fonction <built-in method get_background of classy.Class object at 0x560fd279e760> n'existe pas.\n"
     ]
    }
   ],
   "source": [
    "for fonction in trueList:\n",
    "    executer_fonction(getattr(test,s))"
   ]
  },
  {
   "attachments": {},
   "cell_type": "markdown",
   "metadata": {},
   "source": [
    "Liste des méthodes pour le module :    cosmo.lensed_cl(2500)"
   ]
  },
  {
   "cell_type": "code",
   "execution_count": 8,
   "metadata": {},
   "outputs": [
    {
     "name": "stdout",
     "output_type": "stream",
     "text": [
      "dict_keys(['tt', 'ee', 'te', 'bb', 'pp', 'tp', 'ell'])\n"
     ]
    }
   ],
   "source": [
    "cls = test.lensed_cl(2500)\n",
    "print(cls.keys())"
   ]
  },
  {
   "attachments": {},
   "cell_type": "markdown",
   "metadata": {},
   "source": [
    "Dictionnaire CLASS"
   ]
  },
  {
   "cell_type": "code",
   "execution_count": 6,
   "metadata": {},
   "outputs": [
    {
     "data": {
      "text/plain": [
       "mappingproxy({'__new__': <function Class.__new__(*args, **kwargs)>,\n",
       "              '__call__': <slot wrapper '__call__' of 'classy.Class' objects>,\n",
       "              'set_default': <method 'set_default' of 'classy.Class' objects>,\n",
       "              'set': <method 'set' of 'classy.Class' objects>,\n",
       "              'empty': <method 'empty' of 'classy.Class' objects>,\n",
       "              '_fillparfile': <method '_fillparfile' of 'classy.Class' objects>,\n",
       "              'struct_cleanup': <method 'struct_cleanup' of 'classy.Class' objects>,\n",
       "              '_check_task_dependency': <method '_check_task_dependency' of 'classy.Class' objects>,\n",
       "              '_pars_check': <method '_pars_check' of 'classy.Class' objects>,\n",
       "              'compute': <method 'compute' of 'classy.Class' objects>,\n",
       "              'raw_cl': <method 'raw_cl' of 'classy.Class' objects>,\n",
       "              'lensed_cl': <method 'lensed_cl' of 'classy.Class' objects>,\n",
       "              'density_cl': <method 'density_cl' of 'classy.Class' objects>,\n",
       "              'z_of_r': <method 'z_of_r' of 'classy.Class' objects>,\n",
       "              'luminosity_distance': <method 'luminosity_distance' of 'classy.Class' objects>,\n",
       "              'pk': <method 'pk' of 'classy.Class' objects>,\n",
       "              'pk_cb': <method 'pk_cb' of 'classy.Class' objects>,\n",
       "              'pk_lin': <method 'pk_lin' of 'classy.Class' objects>,\n",
       "              'pk_cb_lin': <method 'pk_cb_lin' of 'classy.Class' objects>,\n",
       "              'get_pk': <method 'get_pk' of 'classy.Class' objects>,\n",
       "              'get_pk_cb': <method 'get_pk_cb' of 'classy.Class' objects>,\n",
       "              'get_pk_lin': <method 'get_pk_lin' of 'classy.Class' objects>,\n",
       "              'get_pk_cb_lin': <method 'get_pk_cb_lin' of 'classy.Class' objects>,\n",
       "              'get_pk_all': <method 'get_pk_all' of 'classy.Class' objects>,\n",
       "              'get_pk_and_k_and_z': <method 'get_pk_and_k_and_z' of 'classy.Class' objects>,\n",
       "              'get_transfer_and_k_and_z': <method 'get_transfer_and_k_and_z' of 'classy.Class' objects>,\n",
       "              'get_Weyl_pk_and_k_and_z': <method 'get_Weyl_pk_and_k_and_z' of 'classy.Class' objects>,\n",
       "              'sigma': <method 'sigma' of 'classy.Class' objects>,\n",
       "              'sigma_cb': <method 'sigma_cb' of 'classy.Class' objects>,\n",
       "              'pk_tilt': <method 'pk_tilt' of 'classy.Class' objects>,\n",
       "              'fourier_hmcode_window_nfw': <method 'fourier_hmcode_window_nfw' of 'classy.Class' objects>,\n",
       "              'age': <method 'age' of 'classy.Class' objects>,\n",
       "              'h': <method 'h' of 'classy.Class' objects>,\n",
       "              'n_s': <method 'n_s' of 'classy.Class' objects>,\n",
       "              'tau_reio': <method 'tau_reio' of 'classy.Class' objects>,\n",
       "              'Omega_m': <method 'Omega_m' of 'classy.Class' objects>,\n",
       "              'Omega_r': <method 'Omega_r' of 'classy.Class' objects>,\n",
       "              'theta_s_100': <method 'theta_s_100' of 'classy.Class' objects>,\n",
       "              'theta_star_100': <method 'theta_star_100' of 'classy.Class' objects>,\n",
       "              'Omega_Lambda': <method 'Omega_Lambda' of 'classy.Class' objects>,\n",
       "              'Omega_g': <method 'Omega_g' of 'classy.Class' objects>,\n",
       "              'Omega_b': <method 'Omega_b' of 'classy.Class' objects>,\n",
       "              'omega_b': <method 'omega_b' of 'classy.Class' objects>,\n",
       "              'Neff': <method 'Neff' of 'classy.Class' objects>,\n",
       "              'k_eq': <method 'k_eq' of 'classy.Class' objects>,\n",
       "              'z_eq': <method 'z_eq' of 'classy.Class' objects>,\n",
       "              'sigma8': <method 'sigma8' of 'classy.Class' objects>,\n",
       "              'sigma8_cb': <method 'sigma8_cb' of 'classy.Class' objects>,\n",
       "              'rs_drag': <method 'rs_drag' of 'classy.Class' objects>,\n",
       "              'z_reio': <method 'z_reio' of 'classy.Class' objects>,\n",
       "              'angular_distance': <method 'angular_distance' of 'classy.Class' objects>,\n",
       "              'angular_distance_from_to': <method 'angular_distance_from_to' of 'classy.Class' objects>,\n",
       "              'comoving_distance': <method 'comoving_distance' of 'classy.Class' objects>,\n",
       "              'scale_independent_growth_factor': <method 'scale_independent_growth_factor' of 'classy.Class' objects>,\n",
       "              'scale_independent_growth_factor_f': <method 'scale_independent_growth_factor_f' of 'classy.Class' objects>,\n",
       "              'scale_independent_f_sigma8': <method 'scale_independent_f_sigma8' of 'classy.Class' objects>,\n",
       "              'effective_f_sigma8': <method 'effective_f_sigma8' of 'classy.Class' objects>,\n",
       "              'effective_f_sigma8_spline': <method 'effective_f_sigma8_spline' of 'classy.Class' objects>,\n",
       "              'z_of_tau': <method 'z_of_tau' of 'classy.Class' objects>,\n",
       "              'Hubble': <method 'Hubble' of 'classy.Class' objects>,\n",
       "              'Om_m': <method 'Om_m' of 'classy.Class' objects>,\n",
       "              'Om_b': <method 'Om_b' of 'classy.Class' objects>,\n",
       "              'Om_cdm': <method 'Om_cdm' of 'classy.Class' objects>,\n",
       "              'Om_ncdm': <method 'Om_ncdm' of 'classy.Class' objects>,\n",
       "              'ionization_fraction': <method 'ionization_fraction' of 'classy.Class' objects>,\n",
       "              'baryon_temperature': <method 'baryon_temperature' of 'classy.Class' objects>,\n",
       "              'T_cmb': <method 'T_cmb' of 'classy.Class' objects>,\n",
       "              'Omega0_m': <method 'Omega0_m' of 'classy.Class' objects>,\n",
       "              'get_background': <method 'get_background' of 'classy.Class' objects>,\n",
       "              'get_thermodynamics': <method 'get_thermodynamics' of 'classy.Class' objects>,\n",
       "              'get_primordial': <method 'get_primordial' of 'classy.Class' objects>,\n",
       "              'get_perturbations': <method 'get_perturbations' of 'classy.Class' objects>,\n",
       "              'get_transfer': <method 'get_transfer' of 'classy.Class' objects>,\n",
       "              'get_current_derived_parameters': <method 'get_current_derived_parameters' of 'classy.Class' objects>,\n",
       "              'nonlinear_scale': <method 'nonlinear_scale' of 'classy.Class' objects>,\n",
       "              'nonlinear_scale_cb': <method 'nonlinear_scale_cb' of 'classy.Class' objects>,\n",
       "              'fourier_hmcode_sigma8': <method 'fourier_hmcode_sigma8' of 'classy.Class' objects>,\n",
       "              'fourier_hmcode_sigma8_cb': <method 'fourier_hmcode_sigma8_cb' of 'classy.Class' objects>,\n",
       "              'fourier_hmcode_sigmadisp': <method 'fourier_hmcode_sigmadisp' of 'classy.Class' objects>,\n",
       "              'fourier_hmcode_sigmadisp_cb': <method 'fourier_hmcode_sigmadisp_cb' of 'classy.Class' objects>,\n",
       "              'fourier_hmcode_sigmadisp100': <method 'fourier_hmcode_sigmadisp100' of 'classy.Class' objects>,\n",
       "              'fourier_hmcode_sigmadisp100_cb': <method 'fourier_hmcode_sigmadisp100_cb' of 'classy.Class' objects>,\n",
       "              'fourier_hmcode_sigmaprime': <method 'fourier_hmcode_sigmaprime' of 'classy.Class' objects>,\n",
       "              'fourier_hmcode_sigmaprime_cb': <method 'fourier_hmcode_sigmaprime_cb' of 'classy.Class' objects>,\n",
       "              'get_pk_array': <method 'get_pk_array' of 'classy.Class' objects>,\n",
       "              'get_pk_cb_array': <method 'get_pk_cb_array' of 'classy.Class' objects>,\n",
       "              'Omega0_k': <method 'Omega0_k' of 'classy.Class' objects>,\n",
       "              'Omega0_cdm': <method 'Omega0_cdm' of 'classy.Class' objects>,\n",
       "              'spectral_distortion_amplitudes': <method 'spectral_distortion_amplitudes' of 'classy.Class' objects>,\n",
       "              'spectral_distortion': <method 'spectral_distortion' of 'classy.Class' objects>,\n",
       "              'get_sources': <method 'get_sources' of 'classy.Class' objects>,\n",
       "              'pars': <attribute 'pars' of 'classy.Class' objects>,\n",
       "              'state': <attribute 'state' of 'classy.Class' objects>,\n",
       "              'Omega_nu': <attribute 'Omega_nu' of 'classy.Class' objects>,\n",
       "              'nonlinear_method': <attribute 'nonlinear_method' of 'classy.Class' objects>,\n",
       "              '__doc__': '\\n    Class wrapping, creates the glue between C and python\\n\\n    The actual Class wrapping, the only class we will call from MontePython\\n    (indeed the only one we will import, with the command:\\n    from classy import Class\\n\\n    ',\n",
       "              '__reduce__': <method '__reduce_cython__' of 'classy.Class' objects>,\n",
       "              '__setstate__': <method '__setstate_cython__' of 'classy.Class' objects>})"
      ]
     },
     "execution_count": 6,
     "metadata": {},
     "output_type": "execute_result"
    }
   ],
   "source": [
    "Class.__dict__"
   ]
  }
 ],
 "metadata": {
  "kernelspec": {
   "display_name": "Python 3",
   "language": "python",
   "name": "python3"
  },
  "language_info": {
   "codemirror_mode": {
    "name": "ipython",
    "version": 3
   },
   "file_extension": ".py",
   "mimetype": "text/x-python",
   "name": "python",
   "nbconvert_exporter": "python",
   "pygments_lexer": "ipython3",
   "version": "3.10.6"
  },
  "orig_nbformat": 4
 },
 "nbformat": 4,
 "nbformat_minor": 2
}
