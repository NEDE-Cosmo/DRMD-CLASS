{
 "cells": [
  {
   "cell_type": "code",
   "execution_count": 38,
   "metadata": {},
   "outputs": [],
   "source": [
    "##Librairies!!\n",
    "\n",
    "from classy import Class\n",
    "import numpy as np\n",
    "from matplotlib import pyplot as plt\n",
    "\n",
    "## create object\n",
    "LambdaCDM = Class()\n",
    "# parameters   blabla cf. explanatory.ini\n",
    "LambdaCDM.set({'omega_b':0.0223828,'omega_cdm':0.1201075,'h':0.67810,'A_s':2.100549e-09,'n_s':0.9660499,'tau_reio':0.05430842})\n",
    "#LambdaCDM.set({'omega_b':0.0223828,'omega_cdm':0.1201075,'h':0.67810,'A_s':2.100549e-09,'n_s':0.9660499,'tau_reio':0.05430842, 'r':4, 'k_pivot':0.05})\n",
    "LambdaCDM.set({'output':'tCl,pCl,lCl,mPk','lensing':'yes','P_k_max_1/Mpc':3.0})\n",
    "LambdaCDM.set({'modes':'s,t'})   \n",
    "LambdaCDM.set({'Pk_ini_type':'analytic_Pk'})      \n",
    "# we execute class :)\n",
    "LambdaCDM.compute()"
   ]
  },
  {
   "cell_type": "code",
   "execution_count": 39,
   "metadata": {},
   "outputs": [
    {
     "name": "stdout",
     "output_type": "stream",
     "text": [
      "dict_keys(['k [1/Mpc]', 'P_scalar(k)', 'P_tensor(k)'])\n"
     ]
    }
   ],
   "source": [
    "#primordial calculation\n",
    "primo = LambdaCDM.get_primordial()\n",
    "#what are the methods??\n",
    "print(primo.keys()) \n",
    "\n",
    "\n"
   ]
  },
  {
   "cell_type": "code",
   "execution_count": 40,
   "metadata": {},
   "outputs": [
    {
     "name": "stdout",
     "output_type": "stream",
     "text": [
      "Scalar-to-tensor ratio : r = 1.0006804973628878\n"
     ]
    }
   ],
   "source": [
    "## We calculate the tensor to scalar ratio,\n",
    "## We have to extract the scalar and tensor perturbation, and divide amplitude at the pivot scale  k_* = 0.05 Mpc^-1\n",
    "\n",
    "import numpy as np\n",
    "\n",
    "kk=primo['k [1/Mpc]']\n",
    "P_s=[]\n",
    "P_t=[]\n",
    "\n",
    "h = LambdaCDM.h() # get reduced Hubble for conversions to 1/Mpc\n",
    "for k in kk:\n",
    "    P_s.append(primo['P_scalar(k)'])\n",
    "    P_t.append(primo['P_tensor(k)'])\n",
    "\n",
    "#print(P_s)\n",
    "\n",
    "# We evaluate at k0 = 0.05 Mpc^-1\n",
    "# we interpolate with Scipy\n",
    "from scipy.interpolate import interp1d\n",
    "\n",
    "f1 = interp1d(kk, P_s[0])\n",
    "f2= interp1d(kk,P_t[0])\n",
    "r= f2(0.05)/f1(0.05)\n",
    "print(f\"Scalar-to-tensor ratio : r = {r}\")\n",
    "\n",
    "\n",
    "## Method ??\n",
    "## there is no method to find  r ...  (or I didn't find it?)\n",
    "#print(primo.keys())\n",
    "#print(f\"Scalar-to-tensor ratio (méth): {r}\")\n"
   ]
  },
  {
   "cell_type": "code",
   "execution_count": 42,
   "metadata": {},
   "outputs": [
    {
     "data": {
      "text/plain": [
       "1.0006804973628878"
      ]
     },
     "execution_count": 42,
     "metadata": {},
     "output_type": "execute_result"
    }
   ],
   "source": [
    "import numpy as np\n",
    "from scipy.interpolate import interp1d\n",
    "\n",
    "def calcule_r(primo):    \n",
    "    kk=primo['k [1/Mpc]']\n",
    "    P_s=[]\n",
    "    P_t=[]\n",
    "    h = LambdaCDM.h() # get reduced Hubble for conversions to 1/Mpc\n",
    "    for k in kk:\n",
    "        P_s.append(primo['P_scalar(k)'])\n",
    "        P_t.append(primo['P_tensor(k)'])\n",
    "\n",
    "    # We evaluate at k0 = 0.05 Mpc^-1\n",
    "    # we interpolate with Scipy\n",
    "\n",
    "    f1 = interp1d(kk, P_s[0])\n",
    "    f2= interp1d(kk,P_t[0])\n",
    "    r= f2(0.05)/f1(0.05)\n",
    "\n",
    "    return(r)\n",
    "\n",
    "calcule_r(primo)"
   ]
  }
 ],
 "metadata": {
  "kernelspec": {
   "display_name": "Python 3",
   "language": "python",
   "name": "python3"
  },
  "language_info": {
   "codemirror_mode": {
    "name": "ipython",
    "version": 3
   },
   "file_extension": ".py",
   "mimetype": "text/x-python",
   "name": "python",
   "nbconvert_exporter": "python",
   "pygments_lexer": "ipython3",
   "version": "3.10.6"
  },
  "orig_nbformat": 4
 },
 "nbformat": 4,
 "nbformat_minor": 2
}
