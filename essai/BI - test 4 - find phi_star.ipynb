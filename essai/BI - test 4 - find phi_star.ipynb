{
 "cells": [
  {
   "attachments": {},
   "cell_type": "markdown",
   "metadata": {},
   "source": [
    "blgmff"
   ]
  },
  {
   "cell_type": "code",
   "execution_count": 1,
   "metadata": {},
   "outputs": [],
   "source": [
    "from classy import Class\n",
    "import numpy as np\n",
    "from matplotlib import pyplot as plt\n",
    "\n",
    "from math import pi\n",
    "csteGrav = 6.6743015e-11\n",
    "M_pl = 1/np.sqrt(8*pi*csteGrav)\n",
    "\n",
    "# M_pl = 1\n",
    "\n",
    "def V_brane(phi,M4,mu,n):\n",
    "    return(M4/(1+pow(mu/phi,n)))\n",
    "\n",
    "def epsilon1(phi,M4,mu,n):\n",
    "    x=phi/mu\n",
    "    factor=pow(n*M_pl/mu, 2)\n",
    "    return( 0.5*factor/pow(x*(pow(x,n)+1),2)  )\n",
    "def epsilon2(phi,M4,mu,n):\n",
    "    x=phi/mu\n",
    "    factor = 2*n*pow(M_pl/mu,2)\n",
    "    numerator = (n+1)*pow(x,n)+1\n",
    "    denominator = x*(pow(x,n)+1)\n",
    "    return( factor*numerator/pow(denominator,2) )\n",
    "\n",
    "def epsilon3(phi,M4,mu,n):\n",
    "    x=phi/mu\n",
    "    factor = n*pow(M_pl/mu,2)\n",
    "    numerator = 2 + (n-4)*(n+1)*pow(x,n)  + (n+1)*(n+2)*pow(x,2*n)\n",
    "    denominator = pow( x*(pow(x,n)+1) , 2)\n",
    "    denominator = denominator* ((n+1)*pow(x,n) + 1 )\n",
    "    return( factor * numerator / denominator)"
   ]
  },
  {
   "cell_type": "code",
   "execution_count": null,
   "metadata": {},
   "outputs": [],
   "source": []
  }
 ],
 "metadata": {
  "kernelspec": {
   "display_name": "Python 3",
   "language": "python",
   "name": "python3"
  },
  "language_info": {
   "codemirror_mode": {
    "name": "ipython",
    "version": 3
   },
   "file_extension": ".py",
   "mimetype": "text/x-python",
   "name": "python",
   "nbconvert_exporter": "python",
   "pygments_lexer": "ipython3",
   "version": "3.10.6"
  },
  "orig_nbformat": 4
 },
 "nbformat": 4,
 "nbformat_minor": 2
}
